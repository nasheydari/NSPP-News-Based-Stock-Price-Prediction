{
 "cells": [
  {
   "cell_type": "code",
   "execution_count": 1,
   "metadata": {},
   "outputs": [],
   "source": [
    "import json\n",
    "import time\n",
    "from typing import Dict\n",
    "\n",
    "from datasets import load_dataset # type: ignore\n",
    "from datasets.formatting.formatting import LazyBatch # type: ignore\n",
    "from huggingface_hub import list_datasets # type: ignore\n",
    "import matplotlib.pyplot as plt\n",
    "from minio import Minio\n",
    "from minio.datatypes import Object\n",
    "from minio.helpers import ObjectWriteResult\n",
    "import numpy as np\n",
    "import pandas as pd\n",
    "from sklearn.linear_model import LogisticRegression\n",
    "from sklearn.metrics import ConfusionMatrixDisplay, confusion_matrix\n",
    "import torch\n",
    "from transformers import AutoModel, AutoTokenizer\n",
    "from transformers.tokenization_utils_base import BatchEncoding"
   ]
  },
  {
   "cell_type": "markdown",
   "metadata": {},
   "source": [
    "NYdata_SP has been downloaded from NY times using API."
   ]
  },
  {
   "cell_type": "code",
   "execution_count": 2,
   "metadata": {},
   "outputs": [
    {
     "data": {
      "text/plain": [
       "DatasetDict({\n",
       "    train: Dataset({\n",
       "        features: ['abstract', 'web_url', 'snippet', 'lead_paragraph', 'print_section', 'print_page', 'source', 'multimedia', 'headline', 'keywords', 'pub_date', 'document_type', 'news_desk', 'section_name', 'byline', 'type_of_material', '_id', 'word_count', 'uri', 'subsection_name', 'Open', 'High', 'Low', 'Close', 'Date'],\n",
       "        num_rows: 392\n",
       "    })\n",
       "    validation: Dataset({\n",
       "        features: ['abstract', 'web_url', 'snippet', 'lead_paragraph', 'print_section', 'print_page', 'source', 'multimedia', 'headline', 'keywords', 'pub_date', 'document_type', 'news_desk', 'section_name', 'byline', 'type_of_material', '_id', 'word_count', 'uri', 'subsection_name', 'Open', 'High', 'Low', 'Close', 'Date'],\n",
       "        num_rows: 25\n",
       "    })\n",
       "    test: Dataset({\n",
       "        features: ['abstract', 'web_url', 'snippet', 'lead_paragraph', 'print_section', 'print_page', 'source', 'multimedia', 'headline', 'keywords', 'pub_date', 'document_type', 'news_desk', 'section_name', 'byline', 'type_of_material', '_id', 'word_count', 'uri', 'subsection_name', 'Open', 'High', 'Low', 'Close', 'Date'],\n",
       "        num_rows: 33\n",
       "    })\n",
       "})"
      ]
     },
     "execution_count": 2,
     "metadata": {},
     "output_type": "execute_result"
    }
   ],
   "source": [
    "from datasets import load_from_disk\n",
    "NYdata_SP = load_from_disk('NYdata_SP_datset')\n",
    "NYdata_SP"
   ]
  },
  {
   "cell_type": "markdown",
   "metadata": {},
   "source": [
    "Upload and Download data on local MinIO server to make it compatible for feature extraction on Hugging face."
   ]
  },
  {
   "cell_type": "code",
   "execution_count": 7,
   "metadata": {},
   "outputs": [],
   "source": [
    "def get_object(bucket_name: str, object_name: str, file_path: str):\n",
    "    '''\n",
    "    This function will download an object from MinIO to the specified file_path\n",
    "    and return the object_info.\n",
    "    '''\n",
    "\n",
    "    # Load the credentials and connection information.\n",
    "    with open('credentials_mahdi.json') as f:\n",
    "        credentials = json.load(f)\n",
    "\n",
    "    # Create client with access and secret key\n",
    "    client = Minio(credentials['url'],  # host.docker.internal\n",
    "                credentials['accessKey'],  \n",
    "                credentials['secretKey'], \n",
    "                secure=False)\n",
    "    \n",
    "    # Get data of an object.\n",
    "    object_info = client.fget_object(bucket_name, object_name, file_path)\n",
    "\n",
    "    return object_info\n",
    "\n",
    "\n",
    "def put_file(bucket_name: str, object_name: str, file_path: str):\n",
    "    '''\n",
    "    This function will upload a file to MinIO and return the object_info.\n",
    "    '''\n",
    "\n",
    "    # Load the credentials and connection information.\n",
    "    with open('credentials_mahdi.json') as f:\n",
    "        credentials = json.load(f)\n",
    "    print(credentials['url'])\n",
    "    # Create client with access and secret key\n",
    "    client = Minio(credentials['url'],  # host.docker.internal\n",
    "                credentials['accessKey'],  \n",
    "                credentials['secretKey'], \n",
    "                secure=False)\n",
    "    \n",
    "    # Make sure bucket exists.\n",
    "    found = client.bucket_exists(bucket_name)\n",
    "    if not found:\n",
    "        client.make_bucket(bucket_name)\n",
    "\n",
    "    # Upload the file.\n",
    "    object_write_result = client.fput_object(bucket_name, object_name, file_path)\n",
    "\n",
    "    return object_write_result"
   ]
  },
  {
   "cell_type": "markdown",
   "metadata": {},
   "source": [
    "Putting data on MinIO."
   ]
  },
  {
   "cell_type": "code",
   "execution_count": 8,
   "metadata": {},
   "outputs": [
    {
     "data": {
      "application/vnd.jupyter.widget-view+json": {
       "model_id": "a2b39127a911424c84fd24e00e18d721",
       "version_major": 2,
       "version_minor": 0
      },
      "text/plain": [
       "Creating json from Arrow format:   0%|          | 0/1 [00:00<?, ?ba/s]"
      ]
     },
     "metadata": {},
     "output_type": "display_data"
    },
    {
     "name": "stdout",
     "output_type": "stream",
     "text": [
      "192.168.1.4:9000\n",
      "nspp-train.jsonl http://192.168.1.4:9000/nspp-data/nspp-train.jsonl\n"
     ]
    },
    {
     "data": {
      "application/vnd.jupyter.widget-view+json": {
       "model_id": "fd5aa244358f46ab85fdd312cb1607db",
       "version_major": 2,
       "version_minor": 0
      },
      "text/plain": [
       "Creating json from Arrow format:   0%|          | 0/1 [00:00<?, ?ba/s]"
      ]
     },
     "metadata": {},
     "output_type": "display_data"
    },
    {
     "name": "stdout",
     "output_type": "stream",
     "text": [
      "192.168.1.4:9000\n",
      "nspp-validation.jsonl None\n"
     ]
    },
    {
     "data": {
      "application/vnd.jupyter.widget-view+json": {
       "model_id": "bdbde42c4b87455ea6b065df02d00484",
       "version_major": 2,
       "version_minor": 0
      },
      "text/plain": [
       "Creating json from Arrow format:   0%|          | 0/1 [00:00<?, ?ba/s]"
      ]
     },
     "metadata": {},
     "output_type": "display_data"
    },
    {
     "name": "stdout",
     "output_type": "stream",
     "text": [
      "192.168.1.4:9000\n",
      "nspp-test.jsonl None\n"
     ]
    }
   ],
   "source": [
    "bucket_name = 'nspp-data'\n",
    "for split, dataset in NYdata_SP.items():\n",
    "    dataset.to_json(f'nspp-{split}.jsonl')\n",
    "    object_write_results = put_file(bucket_name, f'nspp-{split}.jsonl', f'nspp-{split}.jsonl')\n",
    "    print(object_write_results.object_name, object_write_results.location)\n"
   ]
  },
  {
   "cell_type": "markdown",
   "metadata": {},
   "source": [
    "Downloading data from MinIO"
   ]
  },
  {
   "cell_type": "code",
   "execution_count": 9,
   "metadata": {},
   "outputs": [
    {
     "name": "stdout",
     "output_type": "stream",
     "text": [
      "nspp-train.jsonl 2024-05-24 21:41:32+00:00\n",
      "nspp-validation.jsonl 2024-05-24 21:41:32+00:00\n",
      "nspp-test.jsonl 2024-05-24 21:41:32+00:00\n"
     ]
    },
    {
     "data": {
      "application/vnd.jupyter.widget-view+json": {
       "model_id": "14269bca52064cb39f34185d3319d7dd",
       "version_major": 2,
       "version_minor": 0
      },
      "text/plain": [
       "Generating train split: 0 examples [00:00, ? examples/s]"
      ]
     },
     "metadata": {},
     "output_type": "display_data"
    },
    {
     "data": {
      "application/vnd.jupyter.widget-view+json": {
       "model_id": "4e8a878e638145e19257904a66812eea",
       "version_major": 2,
       "version_minor": 0
      },
      "text/plain": [
       "Generating validation split: 0 examples [00:00, ? examples/s]"
      ]
     },
     "metadata": {},
     "output_type": "display_data"
    },
    {
     "data": {
      "application/vnd.jupyter.widget-view+json": {
       "model_id": "9e4e54e9e5f0492b9de3b9ed06d185c7",
       "version_major": 2,
       "version_minor": 0
      },
      "text/plain": [
       "Generating test split: 0 examples [00:00, ? examples/s]"
      ]
     },
     "metadata": {},
     "output_type": "display_data"
    }
   ],
   "source": [
    "data_files = {}\n",
    "for split in ['train', 'validation', 'test']:\n",
    "    data_files[split] = f'nspp-{split}.jsonl'\n",
    "    object_info = get_object(bucket_name, f'nspp-{split}.jsonl', f'nspp-{split}.jsonl')\n",
    "    print(object_info.object_name, object_info.last_modified)\n",
    "\n",
    "nspp = load_dataset('json', data_files=data_files)"
   ]
  },
  {
   "cell_type": "code",
   "execution_count": 10,
   "metadata": {},
   "outputs": [
    {
     "data": {
      "text/plain": [
       "DatasetDict({\n",
       "    train: Dataset({\n",
       "        features: ['abstract', 'web_url', 'snippet', 'lead_paragraph', 'print_section', 'print_page', 'source', 'multimedia', 'headline', 'keywords', 'pub_date', 'document_type', 'news_desk', 'section_name', 'byline', 'type_of_material', '_id', 'word_count', 'uri', 'subsection_name', 'Open', 'High', 'Low', 'Close', 'Date'],\n",
       "        num_rows: 392\n",
       "    })\n",
       "    validation: Dataset({\n",
       "        features: ['abstract', 'web_url', 'snippet', 'lead_paragraph', 'print_section', 'print_page', 'source', 'multimedia', 'headline', 'keywords', 'pub_date', 'document_type', 'news_desk', 'section_name', 'byline', 'type_of_material', '_id', 'word_count', 'uri', 'subsection_name', 'Open', 'High', 'Low', 'Close', 'Date'],\n",
       "        num_rows: 25\n",
       "    })\n",
       "    test: Dataset({\n",
       "        features: ['abstract', 'web_url', 'snippet', 'lead_paragraph', 'print_section', 'print_page', 'source', 'multimedia', 'headline', 'keywords', 'pub_date', 'document_type', 'news_desk', 'section_name', 'byline', 'type_of_material', '_id', 'word_count', 'uri', 'subsection_name', 'Open', 'High', 'Low', 'Close', 'Date'],\n",
       "        num_rows: 33\n",
       "    })\n",
       "})"
      ]
     },
     "execution_count": 10,
     "metadata": {},
     "output_type": "execute_result"
    }
   ],
   "source": [
    "nspp"
   ]
  },
  {
   "cell_type": "markdown",
   "metadata": {},
   "source": [
    "Changing the format of data to panda frame."
   ]
  },
  {
   "cell_type": "code",
   "execution_count": 11,
   "metadata": {},
   "outputs": [
    {
     "data": {
      "text/html": [
       "<div>\n",
       "<style scoped>\n",
       "    .dataframe tbody tr th:only-of-type {\n",
       "        vertical-align: middle;\n",
       "    }\n",
       "\n",
       "    .dataframe tbody tr th {\n",
       "        vertical-align: top;\n",
       "    }\n",
       "\n",
       "    .dataframe thead th {\n",
       "        text-align: right;\n",
       "    }\n",
       "</style>\n",
       "<table border=\"1\" class=\"dataframe\">\n",
       "  <thead>\n",
       "    <tr style=\"text-align: right;\">\n",
       "      <th></th>\n",
       "      <th>abstract</th>\n",
       "      <th>web_url</th>\n",
       "      <th>snippet</th>\n",
       "      <th>lead_paragraph</th>\n",
       "      <th>print_section</th>\n",
       "      <th>print_page</th>\n",
       "      <th>source</th>\n",
       "      <th>multimedia</th>\n",
       "      <th>headline</th>\n",
       "      <th>keywords</th>\n",
       "      <th>...</th>\n",
       "      <th>type_of_material</th>\n",
       "      <th>_id</th>\n",
       "      <th>word_count</th>\n",
       "      <th>uri</th>\n",
       "      <th>subsection_name</th>\n",
       "      <th>Open</th>\n",
       "      <th>High</th>\n",
       "      <th>Low</th>\n",
       "      <th>Close</th>\n",
       "      <th>Date</th>\n",
       "    </tr>\n",
       "  </thead>\n",
       "  <tbody>\n",
       "    <tr>\n",
       "      <th>0</th>\n",
       "      <td>Wondering what to get for all the beloved but ...</td>\n",
       "      <td>https://www.nytimes.com/interactive/2023/us/20...</td>\n",
       "      <td>Wondering what to get for all the beloved but ...</td>\n",
       "      <td>Wondering what to get for all the beloved but ...</td>\n",
       "      <td>None</td>\n",
       "      <td>NaN</td>\n",
       "      <td>The New York Times</td>\n",
       "      <td>[{'rank': 0, 'subtype': 'xlarge', 'caption': N...</td>\n",
       "      <td>{'main': '2023 Holiday Gift Guide', 'kicker': ...</td>\n",
       "      <td>[{'name': 'subject', 'value': 'Gifts', 'rank':...</td>\n",
       "      <td>...</td>\n",
       "      <td>Interactive Feature</td>\n",
       "      <td>nyt://interactive/33bb42c4-ad82-5177-8813-6f38...</td>\n",
       "      <td>0.0</td>\n",
       "      <td>nyt://interactive/33bb42c4-ad82-5177-8813-6f38...</td>\n",
       "      <td>None</td>\n",
       "      <td>4,201.27</td>\n",
       "      <td>4,245.64</td>\n",
       "      <td>4,197.74</td>\n",
       "      <td>4,237.86</td>\n",
       "      <td>1698796800000</td>\n",
       "    </tr>\n",
       "    <tr>\n",
       "      <th>1</th>\n",
       "      <td>The deal would generate more than $3 billion i...</td>\n",
       "      <td>https://www.nytimes.com/2023/11/02/business/si...</td>\n",
       "      <td>The deal would generate more than $3 billion i...</td>\n",
       "      <td>Six Flags, an amusement park corporation, is m...</td>\n",
       "      <td>None</td>\n",
       "      <td>NaN</td>\n",
       "      <td>The New York Times</td>\n",
       "      <td>[{'rank': 0, 'subtype': 'xlarge', 'caption': N...</td>\n",
       "      <td>{'main': 'Six Flags Merges With Cedar Fair, a ...</td>\n",
       "      <td>[{'name': 'subject', 'value': 'Amusement and T...</td>\n",
       "      <td>...</td>\n",
       "      <td>News</td>\n",
       "      <td>nyt://article/aa755668-fcf8-5486-9463-29f93e4b...</td>\n",
       "      <td>194.0</td>\n",
       "      <td>nyt://article/aa755668-fcf8-5486-9463-29f93e4b...</td>\n",
       "      <td>None</td>\n",
       "      <td>4,268.26</td>\n",
       "      <td>4,319.72</td>\n",
       "      <td>4,268.26</td>\n",
       "      <td>4,317.78</td>\n",
       "      <td>1698883200000</td>\n",
       "    </tr>\n",
       "    <tr>\n",
       "      <th>2</th>\n",
       "      <td>The market is focused on making money now and ...</td>\n",
       "      <td>https://www.nytimes.com/2023/11/03/business/cl...</td>\n",
       "      <td>The market is focused on making money now and ...</td>\n",
       "      <td>Heat, drought, flood and famine. Evidence of c...</td>\n",
       "      <td>BU</td>\n",
       "      <td>4.0</td>\n",
       "      <td>The New York Times</td>\n",
       "      <td>[{'rank': 0, 'subtype': 'xlarge', 'caption': N...</td>\n",
       "      <td>{'main': 'In a Warming World, Clean Energy Sto...</td>\n",
       "      <td>[{'name': 'subject', 'value': 'Stocks and Bond...</td>\n",
       "      <td>...</td>\n",
       "      <td>News</td>\n",
       "      <td>nyt://article/31afaa72-fa27-5cdc-bc00-be8556e8...</td>\n",
       "      <td>1505.0</td>\n",
       "      <td>nyt://article/31afaa72-fa27-5cdc-bc00-be8556e8...</td>\n",
       "      <td>None</td>\n",
       "      <td>4,334.23</td>\n",
       "      <td>4,373.62</td>\n",
       "      <td>4,334.23</td>\n",
       "      <td>4,358.34</td>\n",
       "      <td>1698969600000</td>\n",
       "    </tr>\n",
       "    <tr>\n",
       "      <th>3</th>\n",
       "      <td></td>\n",
       "      <td>None</td>\n",
       "      <td>None</td>\n",
       "      <td>None</td>\n",
       "      <td>None</td>\n",
       "      <td>NaN</td>\n",
       "      <td>None</td>\n",
       "      <td>None</td>\n",
       "      <td>None</td>\n",
       "      <td>None</td>\n",
       "      <td>...</td>\n",
       "      <td>None</td>\n",
       "      <td>None</td>\n",
       "      <td>NaN</td>\n",
       "      <td>None</td>\n",
       "      <td>None</td>\n",
       "      <td>4,364.27</td>\n",
       "      <td>4,372.21</td>\n",
       "      <td>4,347.53</td>\n",
       "      <td>4,365.98</td>\n",
       "      <td>1699228800000</td>\n",
       "    </tr>\n",
       "    <tr>\n",
       "      <th>4</th>\n",
       "      <td></td>\n",
       "      <td>https://cooking.nytimes.com/recipes/1024807-ve...</td>\n",
       "      <td>None</td>\n",
       "      <td>Vegetable stock doesn’t need the whole vegetab...</td>\n",
       "      <td>None</td>\n",
       "      <td>NaN</td>\n",
       "      <td>None</td>\n",
       "      <td>[{'rank': 0, 'subtype': 'xlarge', 'caption': N...</td>\n",
       "      <td>{'main': 'Vegetable Stock', 'kicker': None, 'c...</td>\n",
       "      <td>[]</td>\n",
       "      <td>...</td>\n",
       "      <td>Recipe</td>\n",
       "      <td>nyt://recipe/dbd499ef-98f2-55d7-8f40-47a05e9e7a5c</td>\n",
       "      <td>0.0</td>\n",
       "      <td>nyt://recipe/dbd499ef-98f2-55d7-8f40-47a05e9e7a5c</td>\n",
       "      <td>None</td>\n",
       "      <td>4,366.21</td>\n",
       "      <td>4,386.26</td>\n",
       "      <td>4,355.41</td>\n",
       "      <td>4,378.38</td>\n",
       "      <td>1699315200000</td>\n",
       "    </tr>\n",
       "  </tbody>\n",
       "</table>\n",
       "<p>5 rows × 25 columns</p>\n",
       "</div>"
      ],
      "text/plain": [
       "                                            abstract  \\\n",
       "0  Wondering what to get for all the beloved but ...   \n",
       "1  The deal would generate more than $3 billion i...   \n",
       "2  The market is focused on making money now and ...   \n",
       "3                                                      \n",
       "4                                                      \n",
       "\n",
       "                                             web_url  \\\n",
       "0  https://www.nytimes.com/interactive/2023/us/20...   \n",
       "1  https://www.nytimes.com/2023/11/02/business/si...   \n",
       "2  https://www.nytimes.com/2023/11/03/business/cl...   \n",
       "3                                               None   \n",
       "4  https://cooking.nytimes.com/recipes/1024807-ve...   \n",
       "\n",
       "                                             snippet  \\\n",
       "0  Wondering what to get for all the beloved but ...   \n",
       "1  The deal would generate more than $3 billion i...   \n",
       "2  The market is focused on making money now and ...   \n",
       "3                                               None   \n",
       "4                                               None   \n",
       "\n",
       "                                      lead_paragraph print_section  \\\n",
       "0  Wondering what to get for all the beloved but ...          None   \n",
       "1  Six Flags, an amusement park corporation, is m...          None   \n",
       "2  Heat, drought, flood and famine. Evidence of c...            BU   \n",
       "3                                               None          None   \n",
       "4  Vegetable stock doesn’t need the whole vegetab...          None   \n",
       "\n",
       "   print_page              source  \\\n",
       "0         NaN  The New York Times   \n",
       "1         NaN  The New York Times   \n",
       "2         4.0  The New York Times   \n",
       "3         NaN                None   \n",
       "4         NaN                None   \n",
       "\n",
       "                                          multimedia  \\\n",
       "0  [{'rank': 0, 'subtype': 'xlarge', 'caption': N...   \n",
       "1  [{'rank': 0, 'subtype': 'xlarge', 'caption': N...   \n",
       "2  [{'rank': 0, 'subtype': 'xlarge', 'caption': N...   \n",
       "3                                               None   \n",
       "4  [{'rank': 0, 'subtype': 'xlarge', 'caption': N...   \n",
       "\n",
       "                                            headline  \\\n",
       "0  {'main': '2023 Holiday Gift Guide', 'kicker': ...   \n",
       "1  {'main': 'Six Flags Merges With Cedar Fair, a ...   \n",
       "2  {'main': 'In a Warming World, Clean Energy Sto...   \n",
       "3                                               None   \n",
       "4  {'main': 'Vegetable Stock', 'kicker': None, 'c...   \n",
       "\n",
       "                                            keywords  ...  \\\n",
       "0  [{'name': 'subject', 'value': 'Gifts', 'rank':...  ...   \n",
       "1  [{'name': 'subject', 'value': 'Amusement and T...  ...   \n",
       "2  [{'name': 'subject', 'value': 'Stocks and Bond...  ...   \n",
       "3                                               None  ...   \n",
       "4                                                 []  ...   \n",
       "\n",
       "      type_of_material                                                _id  \\\n",
       "0  Interactive Feature  nyt://interactive/33bb42c4-ad82-5177-8813-6f38...   \n",
       "1                 News  nyt://article/aa755668-fcf8-5486-9463-29f93e4b...   \n",
       "2                 News  nyt://article/31afaa72-fa27-5cdc-bc00-be8556e8...   \n",
       "3                 None                                               None   \n",
       "4               Recipe  nyt://recipe/dbd499ef-98f2-55d7-8f40-47a05e9e7a5c   \n",
       "\n",
       "  word_count                                                uri  \\\n",
       "0        0.0  nyt://interactive/33bb42c4-ad82-5177-8813-6f38...   \n",
       "1      194.0  nyt://article/aa755668-fcf8-5486-9463-29f93e4b...   \n",
       "2     1505.0  nyt://article/31afaa72-fa27-5cdc-bc00-be8556e8...   \n",
       "3        NaN                                               None   \n",
       "4        0.0  nyt://recipe/dbd499ef-98f2-55d7-8f40-47a05e9e7a5c   \n",
       "\n",
       "  subsection_name      Open      High       Low     Close           Date  \n",
       "0            None  4,201.27  4,245.64  4,197.74  4,237.86  1698796800000  \n",
       "1            None  4,268.26  4,319.72  4,268.26  4,317.78  1698883200000  \n",
       "2            None  4,334.23  4,373.62  4,334.23  4,358.34  1698969600000  \n",
       "3            None  4,364.27  4,372.21  4,347.53  4,365.98  1699228800000  \n",
       "4            None  4,366.21  4,386.26  4,355.41  4,378.38  1699315200000  \n",
       "\n",
       "[5 rows x 25 columns]"
      ]
     },
     "execution_count": 11,
     "metadata": {},
     "output_type": "execute_result"
    }
   ],
   "source": [
    "nspp.set_format(type='pandas')\n",
    "df_nspp = nspp['validation'][:]\n",
    "df_nspp.head()\n"
   ]
  },
  {
   "cell_type": "code",
   "execution_count": 12,
   "metadata": {},
   "outputs": [
    {
     "data": {
      "text/plain": [
       "device(type='cpu')"
      ]
     },
     "execution_count": 12,
     "metadata": {},
     "output_type": "execute_result"
    }
   ],
   "source": [
    "import torch # type: ignore\n",
    "device = torch.device('cuda' if torch.cuda.is_available() else 'cpu')\n",
    "device"
   ]
  },
  {
   "cell_type": "markdown",
   "metadata": {},
   "source": [
    "Loading the distilted version of Bert language model"
   ]
  },
  {
   "cell_type": "code",
   "execution_count": 13,
   "metadata": {},
   "outputs": [
    {
     "name": "stdout",
     "output_type": "stream",
     "text": [
      "<class 'transformers.models.distilbert.modeling_distilbert.DistilBertModel'>\n",
      "<class 'transformers.models.distilbert.tokenization_distilbert_fast.DistilBertTokenizerFast'>\n"
     ]
    }
   ],
   "source": [
    "model_check_point = 'distilbert-base-uncased'\n",
    "model = AutoModel.from_pretrained(model_check_point).to(device)\n",
    "tokenizer = AutoTokenizer.from_pretrained(model_check_point)\n",
    "print(type(model))\n",
    "print(type(tokenizer))"
   ]
  },
  {
   "cell_type": "markdown",
   "metadata": {},
   "source": [
    "Tokenizes the features."
   ]
  },
  {
   "cell_type": "code",
   "execution_count": 14,
   "metadata": {},
   "outputs": [],
   "source": [
    "nspp.reset_format()\n",
    "def tokenize(batch) -> BatchEncoding:\n",
    "    out = tokenizer(batch['abstract'], padding=True, truncation=True, return_tensors='pt')\n",
    "    return out\n",
    "\n"
   ]
  },
  {
   "cell_type": "code",
   "execution_count": 15,
   "metadata": {},
   "outputs": [
    {
     "data": {
      "text/plain": [
       "str"
      ]
     },
     "execution_count": 15,
     "metadata": {},
     "output_type": "execute_result"
    }
   ],
   "source": [
    "type(nspp['train']['abstract'][1])"
   ]
  },
  {
   "cell_type": "code",
   "execution_count": 16,
   "metadata": {},
   "outputs": [
    {
     "data": {
      "application/vnd.jupyter.widget-view+json": {
       "model_id": "b0bf0aa21d7d4c64a5b44b9495d73f42",
       "version_major": 2,
       "version_minor": 0
      },
      "text/plain": [
       "Map:   0%|          | 0/392 [00:00<?, ? examples/s]"
      ]
     },
     "metadata": {},
     "output_type": "display_data"
    },
    {
     "data": {
      "application/vnd.jupyter.widget-view+json": {
       "model_id": "db8f974784cf4c36bced09b9a76ffd79",
       "version_major": 2,
       "version_minor": 0
      },
      "text/plain": [
       "Map:   0%|          | 0/25 [00:00<?, ? examples/s]"
      ]
     },
     "metadata": {},
     "output_type": "display_data"
    },
    {
     "data": {
      "application/vnd.jupyter.widget-view+json": {
       "model_id": "b23913fca76444c3a2c75b8d4167453d",
       "version_major": 2,
       "version_minor": 0
      },
      "text/plain": [
       "Map:   0%|          | 0/33 [00:00<?, ? examples/s]"
      ]
     },
     "metadata": {},
     "output_type": "display_data"
    }
   ],
   "source": [
    "nspp_encoded = nspp.map(tokenize, batched=True, batch_size=None)"
   ]
  },
  {
   "cell_type": "code",
   "execution_count": 17,
   "metadata": {},
   "outputs": [
    {
     "name": "stdout",
     "output_type": "stream",
     "text": [
      "<class 'datasets.dataset_dict.DatasetDict'>\n"
     ]
    },
    {
     "data": {
      "text/plain": [
       "dict_items([('abstract', ['Today, you will identify the areas of your life in which you would like to be more connected.', '']), ('web_url', ['https://www.nytimes.com/2023/01/01/well/happiness-challenge-relationships.html', None]), ('snippet', ['Today, you will identify the areas of your life in which you would like to be more connected.', None]), ('lead_paragraph', ['In 1938, researchers at Harvard set out to learn what makes a person thrive.', None]), ('print_section', ['D', None]), ('print_page', [6.0, None]), ('source', ['The New York Times', None]), ('multimedia', [\"[{'rank': 0, 'subtype': 'xlarge', 'caption': None, 'credit': None, 'type': 'image', 'url': 'images/2023/01/10/well/02Well-Challenge-Intro/02Well-Challenge-Intro-articleLarge.jpg', 'height': 400, 'width': 600, 'legacy': {'xlarge': 'images/2023/01/10/well/02Well-Challenge-Intro/02Well-Challenge-Intro-articleLarge.jpg', 'xlargewidth': 600, 'xlargeheight': 400}, 'subType': 'xlarge', 'crop_name': 'articleLarge'}, {'rank': 0, 'subtype': 'popup', 'caption': None, 'credit': None, 'type': 'image', 'url': 'images/2023/01/10/well/02Well-Challenge-Intro/02Well-Challenge-Intro-popup.jpg', 'height': 433, 'width': 650, 'legacy': {}, 'subType': 'popup', 'crop_name': 'popup'}, {'rank': 0, 'subtype': 'blog480', 'caption': None, 'credit': None, 'type': 'image', 'url': 'images/2023/01/10/well/02Well-Challenge-Intro/02Well-Challenge-Intro-blog480.jpg', 'height': 320, 'width': 480, 'legacy': {}, 'subType': 'blog480', 'crop_name': 'blog480'}, {'rank': 0, 'subtype': 'blog533', 'caption': None, 'credit': None, 'type': 'image', 'url': 'images/2023/01/10/well/02Well-Challenge-Intro/02Well-Challenge-Intro-blog533.jpg', 'height': 355, 'width': 533, 'legacy': {}, 'subType': 'blog533', 'crop_name': 'blog533'}, {'rank': 0, 'subtype': 'blog427', 'caption': None, 'credit': None, 'type': 'image', 'url': 'images/2023/01/10/well/02Well-Challenge-Intro/02Well-Challenge-Intro-blog427.jpg', 'height': 285, 'width': 427, 'legacy': {}, 'subType': 'blog427', 'crop_name': 'blog427'}, {'rank': 0, 'subtype': 'tmagSF', 'caption': None, 'credit': None, 'type': 'image', 'url': 'images/2023/01/10/well/02Well-Challenge-Intro/02Well-Challenge-Intro-tmagSF.jpg', 'height': 241, 'width': 362, 'legacy': {}, 'subType': 'tmagSF', 'crop_name': 'tmagSF'}, {'rank': 0, 'subtype': 'tmagArticle', 'caption': None, 'credit': None, 'type': 'image', 'url': 'images/2023/01/10/well/02Well-Challenge-Intro/02Well-Challenge-Intro-tmagArticle.jpg', 'height': 395, 'width': 592, 'legacy': {}, 'subType': 'tmagArticle', 'crop_name': 'tmagArticle'}, {'rank': 0, 'subtype': 'slide', 'caption': None, 'credit': None, 'type': 'image', 'url': 'images/2023/01/10/well/02Well-Challenge-Intro/02Well-Challenge-Intro-slide.jpg', 'height': 400, 'width': 600, 'legacy': {}, 'subType': 'slide', 'crop_name': 'slide'}, {'rank': 0, 'subtype': 'jumbo', 'caption': None, 'credit': None, 'type': 'image', 'url': 'images/2023/01/10/well/02Well-Challenge-Intro/02Well-Challenge-Intro-jumbo.jpg', 'height': 683, 'width': 1024, 'legacy': {}, 'subType': 'jumbo', 'crop_name': 'jumbo'}, {'rank': 0, 'subtype': 'superJumbo', 'caption': None, 'credit': None, 'type': 'image', 'url': 'images/2023/01/10/well/02Well-Challenge-Intro/02Well-Challenge-Intro-superJumbo.jpg', 'height': 1365, 'width': 2048, 'legacy': {}, 'subType': 'superJumbo', 'crop_name': 'superJumbo'}, {'rank': 0, 'subtype': 'blog225', 'caption': None, 'credit': None, 'type': 'image', 'url': 'images/2023/01/10/well/02Well-Challenge-Intro/02Well-Challenge-Intro-blog225.jpg', 'height': 150, 'width': 225, 'legacy': {}, 'subType': 'blog225', 'crop_name': 'blog225'}, {'rank': 0, 'subtype': 'master1050', 'caption': None, 'credit': None, 'type': 'image', 'url': 'images/2023/01/10/well/02Well-Challenge-Intro/02Well-Challenge-Intro-master1050.jpg', 'height': 700, 'width': 1050, 'legacy': {}, 'subType': 'master1050', 'crop_name': 'master1050'}, {'rank': 0, 'subtype': 'master675', 'caption': None, 'credit': None, 'type': 'image', 'url': 'images/2023/01/10/well/02Well-Challenge-Intro/02Well-Challenge-Intro-master675.jpg', 'height': 450, 'width': 675, 'legacy': {}, 'subType': 'master675', 'crop_name': 'master675'}, {'rank': 0, 'subtype': 'master495', 'caption': None, 'credit': None, 'type': 'image', 'url': 'images/2023/01/10/well/02Well-Challenge-Intro/02Well-Challenge-Intro-master495.jpg', 'height': 330, 'width': 495, 'legacy': {}, 'subType': 'master495', 'crop_name': 'master495'}, {'rank': 0, 'subtype': 'master180', 'caption': None, 'credit': None, 'type': 'image', 'url': 'images/2023/01/10/well/02Well-Challenge-Intro/02Well-Challenge-Intro-master180.jpg', 'height': 120, 'width': 180, 'legacy': {}, 'subType': 'master180', 'crop_name': 'master180'}, {'rank': 0, 'subtype': 'master315', 'caption': None, 'credit': None, 'type': 'image', 'url': 'images/2023/01/10/well/02Well-Challenge-Intro/02Well-Challenge-Intro-master315.jpg', 'height': 210, 'width': 315, 'legacy': {}, 'subType': 'master315', 'crop_name': 'master315'}, {'rank': 0, 'subtype': 'master768', 'caption': None, 'credit': None, 'type': 'image', 'url': 'images/2023/01/10/well/02Well-Challenge-Intro/02Well-Challenge-Intro-master768.jpg', 'height': 512, 'width': 768, 'legacy': {}, 'subType': 'master768', 'crop_name': 'master768'}, {'rank': 0, 'subtype': 'thumbnail', 'caption': None, 'credit': None, 'type': 'image', 'url': 'images/2023/01/10/well/02Well-Challenge-Intro/02Well-Challenge-Intro-thumbStandard.jpg', 'height': 75, 'width': 75, 'legacy': {'thumbnail': 'images/2023/01/10/well/02Well-Challenge-Intro/02Well-Challenge-Intro-thumbStandard.jpg', 'thumbnailwidth': 75, 'thumbnailheight': 75}, 'subType': 'thumbnail', 'crop_name': 'thumbStandard'}, {'rank': 0, 'subtype': 'blogSmallThumb', 'caption': None, 'credit': None, 'type': 'image', 'url': 'images/2023/01/10/well/02Well-Challenge-Intro/02Well-Challenge-Intro-blogSmallThumb.jpg', 'height': 50, 'width': 50, 'legacy': {}, 'subType': 'blogSmallThumb', 'crop_name': 'blogSmallThumb'}, {'rank': 0, 'subtype': 'thumbLarge', 'caption': None, 'credit': None, 'type': 'image', 'url': 'images/2023/01/10/well/02Well-Challenge-Intro/02Well-Challenge-Intro-thumbLarge.jpg', 'height': 150, 'width': 150, 'legacy': {}, 'subType': 'thumbLarge', 'crop_name': 'thumbLarge'}, {'rank': 0, 'subtype': 'smallSquare168', 'caption': None, 'credit': None, 'type': 'image', 'url': 'images/2023/01/10/well/02Well-Challenge-Intro/02Well-Challenge-Intro-smallSquare168.jpg', 'height': 168, 'width': 168, 'legacy': {}, 'subType': 'smallSquare168', 'crop_name': 'smallSquare168'}, {'rank': 0, 'subtype': 'smallSquare252', 'caption': None, 'credit': None, 'type': 'image', 'url': 'images/2023/01/10/well/02Well-Challenge-Intro/02Well-Challenge-Intro-smallSquare252.jpg', 'height': 252, 'width': 252, 'legacy': {}, 'subType': 'smallSquare252', 'crop_name': 'smallSquare252'}, {'rank': 0, 'subtype': 'square320', 'caption': None, 'credit': None, 'type': 'image', 'url': 'images/2023/01/10/well/02Well-Challenge-Intro/02Well-Challenge-Intro-square320.jpg', 'height': 320, 'width': 320, 'legacy': {}, 'subType': 'square320', 'crop_name': 'square320'}, {'rank': 0, 'subtype': 'moth', 'caption': None, 'credit': None, 'type': 'image', 'url': 'images/2023/01/10/well/02Well-Challenge-Intro/02Well-Challenge-Intro-moth.jpg', 'height': 151, 'width': 151, 'legacy': {}, 'subType': 'moth', 'crop_name': 'moth'}, {'rank': 0, 'subtype': 'filmstrip', 'caption': None, 'credit': None, 'type': 'image', 'url': 'images/2023/01/10/well/02Well-Challenge-Intro/02Well-Challenge-Intro-filmstrip.jpg', 'height': 190, 'width': 190, 'legacy': {}, 'subType': 'filmstrip', 'crop_name': 'filmstrip'}, {'rank': 0, 'subtype': 'square640', 'caption': None, 'credit': None, 'type': 'image', 'url': 'images/2023/01/10/well/02Well-Challenge-Intro/02Well-Challenge-Intro-square640.jpg', 'height': 640, 'width': 640, 'legacy': {}, 'subType': 'square640', 'crop_name': 'square640'}, {'rank': 0, 'subtype': 'mediumSquare149', 'caption': None, 'credit': None, 'type': 'image', 'url': 'images/2023/01/10/well/02Well-Challenge-Intro/02Well-Challenge-Intro-mediumSquare149.jpg', 'height': 149, 'width': 149, 'legacy': {}, 'subType': 'mediumSquare149', 'crop_name': 'mediumSquare149'}, {'rank': 0, 'subtype': 'mediumSquareAt3X', 'caption': None, 'credit': None, 'type': 'image', 'url': 'images/2023/01/10/well/02Well-Challenge-Intro/02Well-Challenge-Intro-mediumSquareAt3X.jpg', 'height': 1365, 'width': 1365, 'legacy': {}, 'subType': 'mediumSquareAt3X', 'crop_name': 'mediumSquareAt3X'}, {'rank': 0, 'subtype': 'sfSpan', 'caption': None, 'credit': None, 'type': 'image', 'url': 'images/2023/01/10/well/02Well-Challenge-Intro/02Well-Challenge-Intro-sfSpan.jpg', 'height': 263, 'width': 395, 'legacy': {}, 'subType': 'sfSpan', 'crop_name': 'sfSpan'}, {'rank': 0, 'subtype': 'largeHorizontal375', 'caption': None, 'credit': None, 'type': 'image', 'url': 'images/2023/01/10/well/02Well-Challenge-Intro/02Well-Challenge-Intro-largeHorizontal375.jpg', 'height': 250, 'width': 375, 'legacy': {}, 'subType': 'largeHorizontal375', 'crop_name': 'largeHorizontal375'}, {'rank': 0, 'subtype': 'largeHorizontalJumbo', 'caption': None, 'credit': None, 'type': 'image', 'url': 'images/2023/01/10/well/02Well-Challenge-Intro/02Well-Challenge-Intro-largeHorizontalJumbo.jpg', 'height': 683, 'width': 1024, 'legacy': {}, 'subType': 'largeHorizontalJumbo', 'crop_name': 'largeHorizontalJumbo'}, {'rank': 0, 'subtype': 'horizontalMediumAt2X', 'caption': None, 'credit': None, 'type': 'image', 'url': 'images/2023/01/10/well/02Well-Challenge-Intro/02Well-Challenge-Intro-horizontalMediumAt2X.jpg', 'height': 1365, 'width': 2048, 'legacy': {}, 'subType': 'horizontalMediumAt2X', 'crop_name': 'horizontalMediumAt2X'}, {'rank': 0, 'subtype': 'hpLarge', 'caption': None, 'credit': None, 'type': 'image', 'url': 'images/2023/01/10/well/02Well-Challenge-Intro/02Well-Challenge-Intro-hpLarge.jpg', 'height': 287, 'width': 511, 'legacy': {}, 'subType': 'hpLarge', 'crop_name': 'hpLarge'}, {'rank': 0, 'subtype': 'largeWidescreen573', 'caption': None, 'credit': None, 'type': 'image', 'url': 'images/2023/01/10/well/02Well-Challenge-Intro/02Well-Challenge-Intro-largeWidescreen573.jpg', 'height': 322, 'width': 573, 'legacy': {}, 'subType': 'largeWidescreen573', 'crop_name': 'largeWidescreen573'}, {'rank': 0, 'subtype': 'largeWidescreen1050', 'caption': None, 'credit': None, 'type': 'image', 'url': 'images/2023/01/10/well/02Well-Challenge-Intro/02Well-Challenge-Intro-largeWidescreen1050.jpg', 'height': 590, 'width': 1050, 'legacy': {}, 'subType': 'largeWidescreen1050', 'crop_name': 'largeWidescreen1050'}, {'rank': 0, 'subtype': 'wide', 'caption': None, 'credit': None, 'type': 'image', 'url': 'images/2023/01/10/well/02Well-Challenge-Intro/02Well-Challenge-Intro-thumbWide.jpg', 'height': 126, 'width': 190, 'legacy': {'widewidth': 190, 'wideheight': 126, 'wide': 'images/2023/01/10/well/02Well-Challenge-Intro/02Well-Challenge-Intro-thumbWide.jpg'}, 'subType': 'wide', 'crop_name': 'thumbWide'}, {'rank': 0, 'subtype': 'videoThumb', 'caption': None, 'credit': None, 'type': 'image', 'url': 'images/2023/01/10/well/02Well-Challenge-Intro/02Well-Challenge-Intro-videoThumb.jpg', 'height': 50, 'width': 75, 'legacy': {}, 'subType': 'videoThumb', 'crop_name': 'videoThumb'}, {'rank': 0, 'subtype': 'videoLarge', 'caption': None, 'credit': None, 'type': 'image', 'url': 'images/2023/01/10/well/02Well-Challenge-Intro/02Well-Challenge-Intro-videoLarge.jpg', 'height': 507, 'width': 768, 'legacy': {}, 'subType': 'videoLarge', 'crop_name': 'videoLarge'}, {'rank': 0, 'subtype': 'mediumThreeByTwo210', 'caption': None, 'credit': None, 'type': 'image', 'url': 'images/2023/01/10/well/02Well-Challenge-Intro/02Well-Challenge-Intro-mediumThreeByTwo210.jpg', 'height': 140, 'width': 210, 'legacy': {}, 'subType': 'mediumThreeByTwo210', 'crop_name': 'mediumThreeByTwo210'}, {'rank': 0, 'subtype': 'mediumThreeByTwo225', 'caption': None, 'credit': None, 'type': 'image', 'url': 'images/2023/01/10/well/02Well-Challenge-Intro/02Well-Challenge-Intro-mediumThreeByTwo225.jpg', 'height': 150, 'width': 225, 'legacy': {}, 'subType': 'mediumThreeByTwo225', 'crop_name': 'mediumThreeByTwo225'}, {'rank': 0, 'subtype': 'mediumThreeByTwo440', 'caption': None, 'credit': None, 'type': 'image', 'url': 'images/2023/01/10/well/02Well-Challenge-Intro/02Well-Challenge-Intro-mediumThreeByTwo440.jpg', 'height': 293, 'width': 440, 'legacy': {}, 'subType': 'mediumThreeByTwo440', 'crop_name': 'mediumThreeByTwo440'}, {'rank': 0, 'subtype': 'mediumThreeByTwo252', 'caption': None, 'credit': None, 'type': 'image', 'url': 'images/2023/01/10/well/02Well-Challenge-Intro/02Well-Challenge-Intro-mediumThreeByTwo252.jpg', 'height': 168, 'width': 252, 'legacy': {}, 'subType': 'mediumThreeByTwo252', 'crop_name': 'mediumThreeByTwo252'}, {'rank': 0, 'subtype': 'mediumThreeByTwo378', 'caption': None, 'credit': None, 'type': 'image', 'url': 'images/2023/01/10/well/02Well-Challenge-Intro/02Well-Challenge-Intro-mediumThreeByTwo378.jpg', 'height': 252, 'width': 378, 'legacy': {}, 'subType': 'mediumThreeByTwo378', 'crop_name': 'mediumThreeByTwo378'}, {'rank': 0, 'subtype': 'threeByTwoLargeAt2X', 'caption': None, 'credit': None, 'type': 'image', 'url': 'images/2023/01/10/well/02Well-Challenge-Intro/02Well-Challenge-Intro-threeByTwoLargeAt2X.jpg', 'height': 1365, 'width': 2048, 'legacy': {}, 'subType': 'threeByTwoLargeAt2X', 'crop_name': 'threeByTwoLargeAt2X'}, {'rank': 0, 'subtype': 'threeByTwoMediumAt2X', 'caption': None, 'credit': None, 'type': 'image', 'url': 'images/2023/01/10/well/02Well-Challenge-Intro/02Well-Challenge-Intro-threeByTwoMediumAt2X.jpg', 'height': 1000, 'width': 1500, 'legacy': {}, 'subType': 'threeByTwoMediumAt2X', 'crop_name': 'threeByTwoMediumAt2X'}, {'rank': 0, 'subtype': 'threeByTwoSmallAt2X', 'caption': None, 'credit': None, 'type': 'image', 'url': 'images/2023/01/10/well/02Well-Challenge-Intro/02Well-Challenge-Intro-threeByTwoSmallAt2X.jpg', 'height': 400, 'width': 600, 'legacy': {}, 'subType': 'threeByTwoSmallAt2X', 'crop_name': 'threeByTwoSmallAt2X'}, {'rank': 0, 'subtype': 'articleInline', 'caption': None, 'credit': None, 'type': 'image', 'url': 'images/2023/01/10/well/02Well-Challenge-Intro/02Well-Challenge-Intro-articleInline.jpg', 'height': 127, 'width': 190, 'legacy': {}, 'subType': 'articleInline', 'crop_name': 'articleInline'}, {'rank': 0, 'subtype': 'hpSmall', 'caption': None, 'credit': None, 'type': 'image', 'url': 'images/2023/01/10/well/02Well-Challenge-Intro/02Well-Challenge-Intro-hpSmall.jpg', 'height': 109, 'width': 163, 'legacy': {}, 'subType': 'hpSmall', 'crop_name': 'hpSmall'}, {'rank': 0, 'subtype': 'blogSmallInline', 'caption': None, 'credit': None, 'type': 'image', 'url': 'images/2023/01/10/well/02Well-Challenge-Intro/02Well-Challenge-Intro-blogSmallInline.jpg', 'height': 101, 'width': 151, 'legacy': {}, 'subType': 'blogSmallInline', 'crop_name': 'blogSmallInline'}, {'rank': 0, 'subtype': 'mediumFlexible177', 'caption': None, 'credit': None, 'type': 'image', 'url': 'images/2023/01/10/well/02Well-Challenge-Intro/02Well-Challenge-Intro-mediumFlexible177.jpg', 'height': 118, 'width': 177, 'legacy': {}, 'subType': 'mediumFlexible177', 'crop_name': 'mediumFlexible177'}, {'rank': 0, 'subtype': 'videoSmall', 'caption': None, 'credit': None, 'type': 'image', 'url': 'images/2023/01/10/well/02Well-Challenge-Intro/02Well-Challenge-Intro-videoSmall.jpg', 'height': 281, 'width': 500, 'legacy': {}, 'subType': 'videoSmall', 'crop_name': 'videoSmall'}, {'rank': 0, 'subtype': 'videoHpMedium', 'caption': None, 'credit': None, 'type': 'image', 'url': 'images/2023/01/10/well/02Well-Challenge-Intro/02Well-Challenge-Intro-videoHpMedium.jpg', 'height': 211, 'width': 375, 'legacy': {}, 'subType': 'videoHpMedium', 'crop_name': 'videoHpMedium'}, {'rank': 0, 'subtype': 'videoSixteenByNine600', 'caption': None, 'credit': None, 'type': 'image', 'url': 'images/2023/01/10/well/02Well-Challenge-Intro/02Well-Challenge-Intro-videoSixteenByNine600.jpg', 'height': 338, 'width': 600, 'legacy': {}, 'subType': 'videoSixteenByNine600', 'crop_name': 'videoSixteenByNine600'}, {'rank': 0, 'subtype': 'videoSixteenByNine540', 'caption': None, 'credit': None, 'type': 'image', 'url': 'images/2023/01/10/well/02Well-Challenge-Intro/02Well-Challenge-Intro-videoSixteenByNine540.jpg', 'height': 304, 'width': 540, 'legacy': {}, 'subType': 'videoSixteenByNine540', 'crop_name': 'videoSixteenByNine540'}, {'rank': 0, 'subtype': 'videoSixteenByNine495', 'caption': None, 'credit': None, 'type': 'image', 'url': 'images/2023/01/10/well/02Well-Challenge-Intro/02Well-Challenge-Intro-videoSixteenByNine495.jpg', 'height': 278, 'width': 495, 'legacy': {}, 'subType': 'videoSixteenByNine495', 'crop_name': 'videoSixteenByNine495'}, {'rank': 0, 'subtype': 'videoSixteenByNine390', 'caption': None, 'credit': None, 'type': 'image', 'url': 'images/2023/01/10/well/02Well-Challenge-Intro/02Well-Challenge-Intro-videoSixteenByNine390.jpg', 'height': 219, 'width': 390, 'legacy': {}, 'subType': 'videoSixteenByNine390', 'crop_name': 'videoSixteenByNine390'}, {'rank': 0, 'subtype': 'videoSixteenByNine1050', 'caption': None, 'credit': None, 'type': 'image', 'url': 'images/2023/01/10/well/02Well-Challenge-Intro/02Well-Challenge-Intro-videoSixteenByNine1050.jpg', 'height': 591, 'width': 1050, 'legacy': {}, 'subType': 'videoSixteenByNine1050', 'crop_name': 'videoSixteenByNine1050'}, {'rank': 0, 'subtype': 'videoSixteenByNine480', 'caption': None, 'credit': None, 'type': 'image', 'url': 'images/2023/01/10/well/02Well-Challenge-Intro/02Well-Challenge-Intro-videoSixteenByNine480.jpg', 'height': 270, 'width': 480, 'legacy': {}, 'subType': 'videoSixteenByNine480', 'crop_name': 'videoSixteenByNine480'}, {'rank': 0, 'subtype': 'videoSixteenByNine310', 'caption': None, 'credit': None, 'type': 'image', 'url': 'images/2023/01/10/well/02Well-Challenge-Intro/02Well-Challenge-Intro-videoSixteenByNine310.jpg', 'height': 174, 'width': 310, 'legacy': {}, 'subType': 'videoSixteenByNine310', 'crop_name': 'videoSixteenByNine310'}, {'rank': 0, 'subtype': 'videoSixteenByNine225', 'caption': None, 'credit': None, 'type': 'image', 'url': 'images/2023/01/10/well/02Well-Challenge-Intro/02Well-Challenge-Intro-videoSixteenByNine225.jpg', 'height': 126, 'width': 225, 'legacy': {}, 'subType': 'videoSixteenByNine225', 'crop_name': 'videoSixteenByNine225'}, {'rank': 0, 'subtype': 'videoSixteenByNine96', 'caption': None, 'credit': None, 'type': 'image', 'url': 'images/2023/01/10/well/02Well-Challenge-Intro/02Well-Challenge-Intro-videoSixteenByNine96.jpg', 'height': 54, 'width': 96, 'legacy': {}, 'subType': 'videoSixteenByNine96', 'crop_name': 'videoSixteenByNine96'}, {'rank': 0, 'subtype': 'videoSixteenByNine768', 'caption': None, 'credit': None, 'type': 'image', 'url': 'images/2023/01/10/well/02Well-Challenge-Intro/02Well-Challenge-Intro-videoSixteenByNine768.jpg', 'height': 432, 'width': 768, 'legacy': {}, 'subType': 'videoSixteenByNine768', 'crop_name': 'videoSixteenByNine768'}, {'rank': 0, 'subtype': 'videoSixteenByNine150', 'caption': None, 'credit': None, 'type': 'image', 'url': 'images/2023/01/10/well/02Well-Challenge-Intro/02Well-Challenge-Intro-videoSixteenByNine150.jpg', 'height': 84, 'width': 150, 'legacy': {}, 'subType': 'videoSixteenByNine150', 'crop_name': 'videoSixteenByNine150'}, {'rank': 0, 'subtype': 'videoSixteenByNineJumbo1600', 'caption': None, 'credit': None, 'type': 'image', 'url': 'images/2023/01/10/well/02Well-Challenge-Intro/02Well-Challenge-Intro-videoSixteenByNineJumbo1600.jpg', 'height': 900, 'width': 1600, 'legacy': {}, 'subType': 'videoSixteenByNineJumbo1600', 'crop_name': 'videoSixteenByNineJumbo1600'}, {'rank': 0, 'subtype': 'miniMoth', 'caption': None, 'credit': None, 'type': 'image', 'url': 'images/2023/01/10/well/02Well-Challenge-Intro/02Well-Challenge-Intro-miniMoth.jpg', 'height': 70, 'width': 151, 'legacy': {}, 'subType': 'miniMoth', 'crop_name': 'miniMoth'}, {'rank': 0, 'subtype': 'windowsTile336H', 'caption': None, 'credit': None, 'type': 'image', 'url': 'images/2023/01/10/well/02Well-Challenge-Intro/02Well-Challenge-Intro-windowsTile336H.jpg', 'height': 336, 'width': 694, 'legacy': {}, 'subType': 'windowsTile336H', 'crop_name': 'windowsTile336H'}, {'rank': 0, 'subtype': 'videoFifteenBySeven1305', 'caption': None, 'credit': None, 'type': 'image', 'url': 'images/2023/01/10/well/02Well-Challenge-Intro/02Well-Challenge-Intro-videoFifteenBySeven1305.jpg', 'height': 609, 'width': 1305, 'legacy': {}, 'subType': 'videoFifteenBySeven1305', 'crop_name': 'videoFifteenBySeven1305'}, {'rank': 0, 'subtype': 'facebookJumbo', 'caption': None, 'credit': None, 'type': 'image', 'url': 'images/2023/01/10/well/02Well-Challenge-Intro/02Well-Challenge-Intro-facebookJumbo.jpg', 'height': 549, 'width': 1050, 'legacy': {}, 'subType': 'facebookJumbo', 'crop_name': 'facebookJumbo'}, {'rank': 0, 'subtype': 'watch308', 'caption': None, 'credit': None, 'type': 'image', 'url': 'images/2023/01/10/well/02Well-Challenge-Intro/02Well-Challenge-Intro-watch308.jpg', 'height': 348, 'width': 312, 'legacy': {}, 'subType': 'watch308', 'crop_name': 'watch308'}, {'rank': 0, 'subtype': 'watch268', 'caption': None, 'credit': None, 'type': 'image', 'url': 'images/2023/01/10/well/02Well-Challenge-Intro/02Well-Challenge-Intro-watch268.jpg', 'height': 303, 'width': 272, 'legacy': {}, 'subType': 'watch268', 'crop_name': 'watch268'}, {'rank': 0, 'subtype': 'verticalTwoByThree735', 'caption': None, 'credit': None, 'type': 'image', 'url': 'images/2023/01/10/well/02Well-Challenge-Intro/02Well-Challenge-Intro-verticalTwoByThree735.jpg', 'height': 1103, 'width': 735, 'legacy': {}, 'subType': 'verticalTwoByThree735', 'crop_name': 'verticalTwoByThree735'}, {'rank': 0, 'subtype': 'mobileMasterAt3x', 'caption': None, 'credit': None, 'type': 'image', 'url': 'images/2023/01/10/well/02Well-Challenge-Intro/02Well-Challenge-Intro-mobileMasterAt3x.jpg', 'height': 1200, 'width': 1800, 'legacy': {}, 'subType': 'mobileMasterAt3x', 'crop_name': 'mobileMasterAt3x'}]\", None]), ('headline', [\"{'main': 'Day 1: Take Stock of Your Relationships', 'kicker': 'The 7-day Happiness Challenge', 'content_kicker': None, 'print_headline': 'Day 1 | Your Relationships Are Essential for Your Health', 'name': None, 'seo': None, 'sub': None}\", None]), ('keywords', [\"[{'name': 'subject', 'value': 'Content Type: Service', 'rank': 1, 'major': 'N'}, {'name': 'subject', 'value': 'Dating and Relationships', 'rank': 2, 'major': 'N'}, {'name': 'subject', 'value': 'Loneliness', 'rank': 3, 'major': 'N'}, {'name': 'creative_works', 'value': 'The Good Life (Book)', 'rank': 4, 'major': 'N'}]\", None]), ('pub_date', [datetime.datetime(2023, 1, 2, 4, 0, 6), None]), ('document_type', ['article', None]), ('news_desk', ['Well', None]), ('section_name', ['Well', None]), ('byline', [\"{'original': 'By Jancee Dunn', 'person': [{'firstname': 'Jancee', 'middlename': None, 'lastname': 'Dunn', 'qualifier': None, 'title': None, 'role': 'reported', 'organization': '', 'rank': 1}], 'organization': None}\", None]), ('type_of_material', ['News', None]), ('_id', ['nyt://article/3dfb3527-68cd-5db7-9504-7afc538953f2', None]), ('word_count', [1172.0, None]), ('uri', ['nyt://article/3dfb3527-68cd-5db7-9504-7afc538953f2', None]), ('subsection_name', [None, None]), ('Open', [None, '3,853.29']), ('High', [None, '3,878.46']), ('Low', [None, '3,794.33']), ('Close', [None, '3,824.14']), ('Date', [1672617600000, 1672704000000]), ('input_ids', [[101, 2651, 1010, 2017, 2097, 6709, 1996, 2752, 1997, 2115, 2166, 1999, 2029, 2017, 2052, 2066, 2000, 2022, 2062, 4198, 1012, 102, 0, 0, 0, 0, 0, 0, 0, 0, 0, 0, 0, 0, 0, 0, 0, 0, 0, 0, 0, 0, 0, 0, 0, 0, 0, 0, 0, 0, 0, 0, 0, 0, 0, 0, 0, 0, 0, 0, 0, 0, 0, 0, 0, 0, 0, 0, 0, 0, 0, 0, 0, 0, 0, 0, 0, 0, 0, 0, 0, 0], [101, 102, 0, 0, 0, 0, 0, 0, 0, 0, 0, 0, 0, 0, 0, 0, 0, 0, 0, 0, 0, 0, 0, 0, 0, 0, 0, 0, 0, 0, 0, 0, 0, 0, 0, 0, 0, 0, 0, 0, 0, 0, 0, 0, 0, 0, 0, 0, 0, 0, 0, 0, 0, 0, 0, 0, 0, 0, 0, 0, 0, 0, 0, 0, 0, 0, 0, 0, 0, 0, 0, 0, 0, 0, 0, 0, 0, 0, 0, 0, 0, 0]]), ('attention_mask', [[1, 1, 1, 1, 1, 1, 1, 1, 1, 1, 1, 1, 1, 1, 1, 1, 1, 1, 1, 1, 1, 1, 0, 0, 0, 0, 0, 0, 0, 0, 0, 0, 0, 0, 0, 0, 0, 0, 0, 0, 0, 0, 0, 0, 0, 0, 0, 0, 0, 0, 0, 0, 0, 0, 0, 0, 0, 0, 0, 0, 0, 0, 0, 0, 0, 0, 0, 0, 0, 0, 0, 0, 0, 0, 0, 0, 0, 0, 0, 0, 0, 0], [1, 1, 0, 0, 0, 0, 0, 0, 0, 0, 0, 0, 0, 0, 0, 0, 0, 0, 0, 0, 0, 0, 0, 0, 0, 0, 0, 0, 0, 0, 0, 0, 0, 0, 0, 0, 0, 0, 0, 0, 0, 0, 0, 0, 0, 0, 0, 0, 0, 0, 0, 0, 0, 0, 0, 0, 0, 0, 0, 0, 0, 0, 0, 0, 0, 0, 0, 0, 0, 0, 0, 0, 0, 0, 0, 0, 0, 0, 0, 0, 0, 0]])])"
      ]
     },
     "execution_count": 17,
     "metadata": {},
     "output_type": "execute_result"
    }
   ],
   "source": [
    "print(type(nspp_encoded))\n",
    "nspp_encoded['train'][:2].items()"
   ]
  },
  {
   "cell_type": "code",
   "execution_count": 18,
   "metadata": {},
   "outputs": [
    {
     "data": {
      "text/plain": [
       "{'abstract': 'Today, you will identify the areas of your life in which you would like to be more connected.',\n",
       " 'web_url': 'https://www.nytimes.com/2023/01/01/well/happiness-challenge-relationships.html',\n",
       " 'snippet': 'Today, you will identify the areas of your life in which you would like to be more connected.',\n",
       " 'lead_paragraph': 'In 1938, researchers at Harvard set out to learn what makes a person thrive.',\n",
       " 'print_section': 'D',\n",
       " 'print_page': 6.0,\n",
       " 'source': 'The New York Times',\n",
       " 'multimedia': \"[{'rank': 0, 'subtype': 'xlarge', 'caption': None, 'credit': None, 'type': 'image', 'url': 'images/2023/01/10/well/02Well-Challenge-Intro/02Well-Challenge-Intro-articleLarge.jpg', 'height': 400, 'width': 600, 'legacy': {'xlarge': 'images/2023/01/10/well/02Well-Challenge-Intro/02Well-Challenge-Intro-articleLarge.jpg', 'xlargewidth': 600, 'xlargeheight': 400}, 'subType': 'xlarge', 'crop_name': 'articleLarge'}, {'rank': 0, 'subtype': 'popup', 'caption': None, 'credit': None, 'type': 'image', 'url': 'images/2023/01/10/well/02Well-Challenge-Intro/02Well-Challenge-Intro-popup.jpg', 'height': 433, 'width': 650, 'legacy': {}, 'subType': 'popup', 'crop_name': 'popup'}, {'rank': 0, 'subtype': 'blog480', 'caption': None, 'credit': None, 'type': 'image', 'url': 'images/2023/01/10/well/02Well-Challenge-Intro/02Well-Challenge-Intro-blog480.jpg', 'height': 320, 'width': 480, 'legacy': {}, 'subType': 'blog480', 'crop_name': 'blog480'}, {'rank': 0, 'subtype': 'blog533', 'caption': None, 'credit': None, 'type': 'image', 'url': 'images/2023/01/10/well/02Well-Challenge-Intro/02Well-Challenge-Intro-blog533.jpg', 'height': 355, 'width': 533, 'legacy': {}, 'subType': 'blog533', 'crop_name': 'blog533'}, {'rank': 0, 'subtype': 'blog427', 'caption': None, 'credit': None, 'type': 'image', 'url': 'images/2023/01/10/well/02Well-Challenge-Intro/02Well-Challenge-Intro-blog427.jpg', 'height': 285, 'width': 427, 'legacy': {}, 'subType': 'blog427', 'crop_name': 'blog427'}, {'rank': 0, 'subtype': 'tmagSF', 'caption': None, 'credit': None, 'type': 'image', 'url': 'images/2023/01/10/well/02Well-Challenge-Intro/02Well-Challenge-Intro-tmagSF.jpg', 'height': 241, 'width': 362, 'legacy': {}, 'subType': 'tmagSF', 'crop_name': 'tmagSF'}, {'rank': 0, 'subtype': 'tmagArticle', 'caption': None, 'credit': None, 'type': 'image', 'url': 'images/2023/01/10/well/02Well-Challenge-Intro/02Well-Challenge-Intro-tmagArticle.jpg', 'height': 395, 'width': 592, 'legacy': {}, 'subType': 'tmagArticle', 'crop_name': 'tmagArticle'}, {'rank': 0, 'subtype': 'slide', 'caption': None, 'credit': None, 'type': 'image', 'url': 'images/2023/01/10/well/02Well-Challenge-Intro/02Well-Challenge-Intro-slide.jpg', 'height': 400, 'width': 600, 'legacy': {}, 'subType': 'slide', 'crop_name': 'slide'}, {'rank': 0, 'subtype': 'jumbo', 'caption': None, 'credit': None, 'type': 'image', 'url': 'images/2023/01/10/well/02Well-Challenge-Intro/02Well-Challenge-Intro-jumbo.jpg', 'height': 683, 'width': 1024, 'legacy': {}, 'subType': 'jumbo', 'crop_name': 'jumbo'}, {'rank': 0, 'subtype': 'superJumbo', 'caption': None, 'credit': None, 'type': 'image', 'url': 'images/2023/01/10/well/02Well-Challenge-Intro/02Well-Challenge-Intro-superJumbo.jpg', 'height': 1365, 'width': 2048, 'legacy': {}, 'subType': 'superJumbo', 'crop_name': 'superJumbo'}, {'rank': 0, 'subtype': 'blog225', 'caption': None, 'credit': None, 'type': 'image', 'url': 'images/2023/01/10/well/02Well-Challenge-Intro/02Well-Challenge-Intro-blog225.jpg', 'height': 150, 'width': 225, 'legacy': {}, 'subType': 'blog225', 'crop_name': 'blog225'}, {'rank': 0, 'subtype': 'master1050', 'caption': None, 'credit': None, 'type': 'image', 'url': 'images/2023/01/10/well/02Well-Challenge-Intro/02Well-Challenge-Intro-master1050.jpg', 'height': 700, 'width': 1050, 'legacy': {}, 'subType': 'master1050', 'crop_name': 'master1050'}, {'rank': 0, 'subtype': 'master675', 'caption': None, 'credit': None, 'type': 'image', 'url': 'images/2023/01/10/well/02Well-Challenge-Intro/02Well-Challenge-Intro-master675.jpg', 'height': 450, 'width': 675, 'legacy': {}, 'subType': 'master675', 'crop_name': 'master675'}, {'rank': 0, 'subtype': 'master495', 'caption': None, 'credit': None, 'type': 'image', 'url': 'images/2023/01/10/well/02Well-Challenge-Intro/02Well-Challenge-Intro-master495.jpg', 'height': 330, 'width': 495, 'legacy': {}, 'subType': 'master495', 'crop_name': 'master495'}, {'rank': 0, 'subtype': 'master180', 'caption': None, 'credit': None, 'type': 'image', 'url': 'images/2023/01/10/well/02Well-Challenge-Intro/02Well-Challenge-Intro-master180.jpg', 'height': 120, 'width': 180, 'legacy': {}, 'subType': 'master180', 'crop_name': 'master180'}, {'rank': 0, 'subtype': 'master315', 'caption': None, 'credit': None, 'type': 'image', 'url': 'images/2023/01/10/well/02Well-Challenge-Intro/02Well-Challenge-Intro-master315.jpg', 'height': 210, 'width': 315, 'legacy': {}, 'subType': 'master315', 'crop_name': 'master315'}, {'rank': 0, 'subtype': 'master768', 'caption': None, 'credit': None, 'type': 'image', 'url': 'images/2023/01/10/well/02Well-Challenge-Intro/02Well-Challenge-Intro-master768.jpg', 'height': 512, 'width': 768, 'legacy': {}, 'subType': 'master768', 'crop_name': 'master768'}, {'rank': 0, 'subtype': 'thumbnail', 'caption': None, 'credit': None, 'type': 'image', 'url': 'images/2023/01/10/well/02Well-Challenge-Intro/02Well-Challenge-Intro-thumbStandard.jpg', 'height': 75, 'width': 75, 'legacy': {'thumbnail': 'images/2023/01/10/well/02Well-Challenge-Intro/02Well-Challenge-Intro-thumbStandard.jpg', 'thumbnailwidth': 75, 'thumbnailheight': 75}, 'subType': 'thumbnail', 'crop_name': 'thumbStandard'}, {'rank': 0, 'subtype': 'blogSmallThumb', 'caption': None, 'credit': None, 'type': 'image', 'url': 'images/2023/01/10/well/02Well-Challenge-Intro/02Well-Challenge-Intro-blogSmallThumb.jpg', 'height': 50, 'width': 50, 'legacy': {}, 'subType': 'blogSmallThumb', 'crop_name': 'blogSmallThumb'}, {'rank': 0, 'subtype': 'thumbLarge', 'caption': None, 'credit': None, 'type': 'image', 'url': 'images/2023/01/10/well/02Well-Challenge-Intro/02Well-Challenge-Intro-thumbLarge.jpg', 'height': 150, 'width': 150, 'legacy': {}, 'subType': 'thumbLarge', 'crop_name': 'thumbLarge'}, {'rank': 0, 'subtype': 'smallSquare168', 'caption': None, 'credit': None, 'type': 'image', 'url': 'images/2023/01/10/well/02Well-Challenge-Intro/02Well-Challenge-Intro-smallSquare168.jpg', 'height': 168, 'width': 168, 'legacy': {}, 'subType': 'smallSquare168', 'crop_name': 'smallSquare168'}, {'rank': 0, 'subtype': 'smallSquare252', 'caption': None, 'credit': None, 'type': 'image', 'url': 'images/2023/01/10/well/02Well-Challenge-Intro/02Well-Challenge-Intro-smallSquare252.jpg', 'height': 252, 'width': 252, 'legacy': {}, 'subType': 'smallSquare252', 'crop_name': 'smallSquare252'}, {'rank': 0, 'subtype': 'square320', 'caption': None, 'credit': None, 'type': 'image', 'url': 'images/2023/01/10/well/02Well-Challenge-Intro/02Well-Challenge-Intro-square320.jpg', 'height': 320, 'width': 320, 'legacy': {}, 'subType': 'square320', 'crop_name': 'square320'}, {'rank': 0, 'subtype': 'moth', 'caption': None, 'credit': None, 'type': 'image', 'url': 'images/2023/01/10/well/02Well-Challenge-Intro/02Well-Challenge-Intro-moth.jpg', 'height': 151, 'width': 151, 'legacy': {}, 'subType': 'moth', 'crop_name': 'moth'}, {'rank': 0, 'subtype': 'filmstrip', 'caption': None, 'credit': None, 'type': 'image', 'url': 'images/2023/01/10/well/02Well-Challenge-Intro/02Well-Challenge-Intro-filmstrip.jpg', 'height': 190, 'width': 190, 'legacy': {}, 'subType': 'filmstrip', 'crop_name': 'filmstrip'}, {'rank': 0, 'subtype': 'square640', 'caption': None, 'credit': None, 'type': 'image', 'url': 'images/2023/01/10/well/02Well-Challenge-Intro/02Well-Challenge-Intro-square640.jpg', 'height': 640, 'width': 640, 'legacy': {}, 'subType': 'square640', 'crop_name': 'square640'}, {'rank': 0, 'subtype': 'mediumSquare149', 'caption': None, 'credit': None, 'type': 'image', 'url': 'images/2023/01/10/well/02Well-Challenge-Intro/02Well-Challenge-Intro-mediumSquare149.jpg', 'height': 149, 'width': 149, 'legacy': {}, 'subType': 'mediumSquare149', 'crop_name': 'mediumSquare149'}, {'rank': 0, 'subtype': 'mediumSquareAt3X', 'caption': None, 'credit': None, 'type': 'image', 'url': 'images/2023/01/10/well/02Well-Challenge-Intro/02Well-Challenge-Intro-mediumSquareAt3X.jpg', 'height': 1365, 'width': 1365, 'legacy': {}, 'subType': 'mediumSquareAt3X', 'crop_name': 'mediumSquareAt3X'}, {'rank': 0, 'subtype': 'sfSpan', 'caption': None, 'credit': None, 'type': 'image', 'url': 'images/2023/01/10/well/02Well-Challenge-Intro/02Well-Challenge-Intro-sfSpan.jpg', 'height': 263, 'width': 395, 'legacy': {}, 'subType': 'sfSpan', 'crop_name': 'sfSpan'}, {'rank': 0, 'subtype': 'largeHorizontal375', 'caption': None, 'credit': None, 'type': 'image', 'url': 'images/2023/01/10/well/02Well-Challenge-Intro/02Well-Challenge-Intro-largeHorizontal375.jpg', 'height': 250, 'width': 375, 'legacy': {}, 'subType': 'largeHorizontal375', 'crop_name': 'largeHorizontal375'}, {'rank': 0, 'subtype': 'largeHorizontalJumbo', 'caption': None, 'credit': None, 'type': 'image', 'url': 'images/2023/01/10/well/02Well-Challenge-Intro/02Well-Challenge-Intro-largeHorizontalJumbo.jpg', 'height': 683, 'width': 1024, 'legacy': {}, 'subType': 'largeHorizontalJumbo', 'crop_name': 'largeHorizontalJumbo'}, {'rank': 0, 'subtype': 'horizontalMediumAt2X', 'caption': None, 'credit': None, 'type': 'image', 'url': 'images/2023/01/10/well/02Well-Challenge-Intro/02Well-Challenge-Intro-horizontalMediumAt2X.jpg', 'height': 1365, 'width': 2048, 'legacy': {}, 'subType': 'horizontalMediumAt2X', 'crop_name': 'horizontalMediumAt2X'}, {'rank': 0, 'subtype': 'hpLarge', 'caption': None, 'credit': None, 'type': 'image', 'url': 'images/2023/01/10/well/02Well-Challenge-Intro/02Well-Challenge-Intro-hpLarge.jpg', 'height': 287, 'width': 511, 'legacy': {}, 'subType': 'hpLarge', 'crop_name': 'hpLarge'}, {'rank': 0, 'subtype': 'largeWidescreen573', 'caption': None, 'credit': None, 'type': 'image', 'url': 'images/2023/01/10/well/02Well-Challenge-Intro/02Well-Challenge-Intro-largeWidescreen573.jpg', 'height': 322, 'width': 573, 'legacy': {}, 'subType': 'largeWidescreen573', 'crop_name': 'largeWidescreen573'}, {'rank': 0, 'subtype': 'largeWidescreen1050', 'caption': None, 'credit': None, 'type': 'image', 'url': 'images/2023/01/10/well/02Well-Challenge-Intro/02Well-Challenge-Intro-largeWidescreen1050.jpg', 'height': 590, 'width': 1050, 'legacy': {}, 'subType': 'largeWidescreen1050', 'crop_name': 'largeWidescreen1050'}, {'rank': 0, 'subtype': 'wide', 'caption': None, 'credit': None, 'type': 'image', 'url': 'images/2023/01/10/well/02Well-Challenge-Intro/02Well-Challenge-Intro-thumbWide.jpg', 'height': 126, 'width': 190, 'legacy': {'widewidth': 190, 'wideheight': 126, 'wide': 'images/2023/01/10/well/02Well-Challenge-Intro/02Well-Challenge-Intro-thumbWide.jpg'}, 'subType': 'wide', 'crop_name': 'thumbWide'}, {'rank': 0, 'subtype': 'videoThumb', 'caption': None, 'credit': None, 'type': 'image', 'url': 'images/2023/01/10/well/02Well-Challenge-Intro/02Well-Challenge-Intro-videoThumb.jpg', 'height': 50, 'width': 75, 'legacy': {}, 'subType': 'videoThumb', 'crop_name': 'videoThumb'}, {'rank': 0, 'subtype': 'videoLarge', 'caption': None, 'credit': None, 'type': 'image', 'url': 'images/2023/01/10/well/02Well-Challenge-Intro/02Well-Challenge-Intro-videoLarge.jpg', 'height': 507, 'width': 768, 'legacy': {}, 'subType': 'videoLarge', 'crop_name': 'videoLarge'}, {'rank': 0, 'subtype': 'mediumThreeByTwo210', 'caption': None, 'credit': None, 'type': 'image', 'url': 'images/2023/01/10/well/02Well-Challenge-Intro/02Well-Challenge-Intro-mediumThreeByTwo210.jpg', 'height': 140, 'width': 210, 'legacy': {}, 'subType': 'mediumThreeByTwo210', 'crop_name': 'mediumThreeByTwo210'}, {'rank': 0, 'subtype': 'mediumThreeByTwo225', 'caption': None, 'credit': None, 'type': 'image', 'url': 'images/2023/01/10/well/02Well-Challenge-Intro/02Well-Challenge-Intro-mediumThreeByTwo225.jpg', 'height': 150, 'width': 225, 'legacy': {}, 'subType': 'mediumThreeByTwo225', 'crop_name': 'mediumThreeByTwo225'}, {'rank': 0, 'subtype': 'mediumThreeByTwo440', 'caption': None, 'credit': None, 'type': 'image', 'url': 'images/2023/01/10/well/02Well-Challenge-Intro/02Well-Challenge-Intro-mediumThreeByTwo440.jpg', 'height': 293, 'width': 440, 'legacy': {}, 'subType': 'mediumThreeByTwo440', 'crop_name': 'mediumThreeByTwo440'}, {'rank': 0, 'subtype': 'mediumThreeByTwo252', 'caption': None, 'credit': None, 'type': 'image', 'url': 'images/2023/01/10/well/02Well-Challenge-Intro/02Well-Challenge-Intro-mediumThreeByTwo252.jpg', 'height': 168, 'width': 252, 'legacy': {}, 'subType': 'mediumThreeByTwo252', 'crop_name': 'mediumThreeByTwo252'}, {'rank': 0, 'subtype': 'mediumThreeByTwo378', 'caption': None, 'credit': None, 'type': 'image', 'url': 'images/2023/01/10/well/02Well-Challenge-Intro/02Well-Challenge-Intro-mediumThreeByTwo378.jpg', 'height': 252, 'width': 378, 'legacy': {}, 'subType': 'mediumThreeByTwo378', 'crop_name': 'mediumThreeByTwo378'}, {'rank': 0, 'subtype': 'threeByTwoLargeAt2X', 'caption': None, 'credit': None, 'type': 'image', 'url': 'images/2023/01/10/well/02Well-Challenge-Intro/02Well-Challenge-Intro-threeByTwoLargeAt2X.jpg', 'height': 1365, 'width': 2048, 'legacy': {}, 'subType': 'threeByTwoLargeAt2X', 'crop_name': 'threeByTwoLargeAt2X'}, {'rank': 0, 'subtype': 'threeByTwoMediumAt2X', 'caption': None, 'credit': None, 'type': 'image', 'url': 'images/2023/01/10/well/02Well-Challenge-Intro/02Well-Challenge-Intro-threeByTwoMediumAt2X.jpg', 'height': 1000, 'width': 1500, 'legacy': {}, 'subType': 'threeByTwoMediumAt2X', 'crop_name': 'threeByTwoMediumAt2X'}, {'rank': 0, 'subtype': 'threeByTwoSmallAt2X', 'caption': None, 'credit': None, 'type': 'image', 'url': 'images/2023/01/10/well/02Well-Challenge-Intro/02Well-Challenge-Intro-threeByTwoSmallAt2X.jpg', 'height': 400, 'width': 600, 'legacy': {}, 'subType': 'threeByTwoSmallAt2X', 'crop_name': 'threeByTwoSmallAt2X'}, {'rank': 0, 'subtype': 'articleInline', 'caption': None, 'credit': None, 'type': 'image', 'url': 'images/2023/01/10/well/02Well-Challenge-Intro/02Well-Challenge-Intro-articleInline.jpg', 'height': 127, 'width': 190, 'legacy': {}, 'subType': 'articleInline', 'crop_name': 'articleInline'}, {'rank': 0, 'subtype': 'hpSmall', 'caption': None, 'credit': None, 'type': 'image', 'url': 'images/2023/01/10/well/02Well-Challenge-Intro/02Well-Challenge-Intro-hpSmall.jpg', 'height': 109, 'width': 163, 'legacy': {}, 'subType': 'hpSmall', 'crop_name': 'hpSmall'}, {'rank': 0, 'subtype': 'blogSmallInline', 'caption': None, 'credit': None, 'type': 'image', 'url': 'images/2023/01/10/well/02Well-Challenge-Intro/02Well-Challenge-Intro-blogSmallInline.jpg', 'height': 101, 'width': 151, 'legacy': {}, 'subType': 'blogSmallInline', 'crop_name': 'blogSmallInline'}, {'rank': 0, 'subtype': 'mediumFlexible177', 'caption': None, 'credit': None, 'type': 'image', 'url': 'images/2023/01/10/well/02Well-Challenge-Intro/02Well-Challenge-Intro-mediumFlexible177.jpg', 'height': 118, 'width': 177, 'legacy': {}, 'subType': 'mediumFlexible177', 'crop_name': 'mediumFlexible177'}, {'rank': 0, 'subtype': 'videoSmall', 'caption': None, 'credit': None, 'type': 'image', 'url': 'images/2023/01/10/well/02Well-Challenge-Intro/02Well-Challenge-Intro-videoSmall.jpg', 'height': 281, 'width': 500, 'legacy': {}, 'subType': 'videoSmall', 'crop_name': 'videoSmall'}, {'rank': 0, 'subtype': 'videoHpMedium', 'caption': None, 'credit': None, 'type': 'image', 'url': 'images/2023/01/10/well/02Well-Challenge-Intro/02Well-Challenge-Intro-videoHpMedium.jpg', 'height': 211, 'width': 375, 'legacy': {}, 'subType': 'videoHpMedium', 'crop_name': 'videoHpMedium'}, {'rank': 0, 'subtype': 'videoSixteenByNine600', 'caption': None, 'credit': None, 'type': 'image', 'url': 'images/2023/01/10/well/02Well-Challenge-Intro/02Well-Challenge-Intro-videoSixteenByNine600.jpg', 'height': 338, 'width': 600, 'legacy': {}, 'subType': 'videoSixteenByNine600', 'crop_name': 'videoSixteenByNine600'}, {'rank': 0, 'subtype': 'videoSixteenByNine540', 'caption': None, 'credit': None, 'type': 'image', 'url': 'images/2023/01/10/well/02Well-Challenge-Intro/02Well-Challenge-Intro-videoSixteenByNine540.jpg', 'height': 304, 'width': 540, 'legacy': {}, 'subType': 'videoSixteenByNine540', 'crop_name': 'videoSixteenByNine540'}, {'rank': 0, 'subtype': 'videoSixteenByNine495', 'caption': None, 'credit': None, 'type': 'image', 'url': 'images/2023/01/10/well/02Well-Challenge-Intro/02Well-Challenge-Intro-videoSixteenByNine495.jpg', 'height': 278, 'width': 495, 'legacy': {}, 'subType': 'videoSixteenByNine495', 'crop_name': 'videoSixteenByNine495'}, {'rank': 0, 'subtype': 'videoSixteenByNine390', 'caption': None, 'credit': None, 'type': 'image', 'url': 'images/2023/01/10/well/02Well-Challenge-Intro/02Well-Challenge-Intro-videoSixteenByNine390.jpg', 'height': 219, 'width': 390, 'legacy': {}, 'subType': 'videoSixteenByNine390', 'crop_name': 'videoSixteenByNine390'}, {'rank': 0, 'subtype': 'videoSixteenByNine1050', 'caption': None, 'credit': None, 'type': 'image', 'url': 'images/2023/01/10/well/02Well-Challenge-Intro/02Well-Challenge-Intro-videoSixteenByNine1050.jpg', 'height': 591, 'width': 1050, 'legacy': {}, 'subType': 'videoSixteenByNine1050', 'crop_name': 'videoSixteenByNine1050'}, {'rank': 0, 'subtype': 'videoSixteenByNine480', 'caption': None, 'credit': None, 'type': 'image', 'url': 'images/2023/01/10/well/02Well-Challenge-Intro/02Well-Challenge-Intro-videoSixteenByNine480.jpg', 'height': 270, 'width': 480, 'legacy': {}, 'subType': 'videoSixteenByNine480', 'crop_name': 'videoSixteenByNine480'}, {'rank': 0, 'subtype': 'videoSixteenByNine310', 'caption': None, 'credit': None, 'type': 'image', 'url': 'images/2023/01/10/well/02Well-Challenge-Intro/02Well-Challenge-Intro-videoSixteenByNine310.jpg', 'height': 174, 'width': 310, 'legacy': {}, 'subType': 'videoSixteenByNine310', 'crop_name': 'videoSixteenByNine310'}, {'rank': 0, 'subtype': 'videoSixteenByNine225', 'caption': None, 'credit': None, 'type': 'image', 'url': 'images/2023/01/10/well/02Well-Challenge-Intro/02Well-Challenge-Intro-videoSixteenByNine225.jpg', 'height': 126, 'width': 225, 'legacy': {}, 'subType': 'videoSixteenByNine225', 'crop_name': 'videoSixteenByNine225'}, {'rank': 0, 'subtype': 'videoSixteenByNine96', 'caption': None, 'credit': None, 'type': 'image', 'url': 'images/2023/01/10/well/02Well-Challenge-Intro/02Well-Challenge-Intro-videoSixteenByNine96.jpg', 'height': 54, 'width': 96, 'legacy': {}, 'subType': 'videoSixteenByNine96', 'crop_name': 'videoSixteenByNine96'}, {'rank': 0, 'subtype': 'videoSixteenByNine768', 'caption': None, 'credit': None, 'type': 'image', 'url': 'images/2023/01/10/well/02Well-Challenge-Intro/02Well-Challenge-Intro-videoSixteenByNine768.jpg', 'height': 432, 'width': 768, 'legacy': {}, 'subType': 'videoSixteenByNine768', 'crop_name': 'videoSixteenByNine768'}, {'rank': 0, 'subtype': 'videoSixteenByNine150', 'caption': None, 'credit': None, 'type': 'image', 'url': 'images/2023/01/10/well/02Well-Challenge-Intro/02Well-Challenge-Intro-videoSixteenByNine150.jpg', 'height': 84, 'width': 150, 'legacy': {}, 'subType': 'videoSixteenByNine150', 'crop_name': 'videoSixteenByNine150'}, {'rank': 0, 'subtype': 'videoSixteenByNineJumbo1600', 'caption': None, 'credit': None, 'type': 'image', 'url': 'images/2023/01/10/well/02Well-Challenge-Intro/02Well-Challenge-Intro-videoSixteenByNineJumbo1600.jpg', 'height': 900, 'width': 1600, 'legacy': {}, 'subType': 'videoSixteenByNineJumbo1600', 'crop_name': 'videoSixteenByNineJumbo1600'}, {'rank': 0, 'subtype': 'miniMoth', 'caption': None, 'credit': None, 'type': 'image', 'url': 'images/2023/01/10/well/02Well-Challenge-Intro/02Well-Challenge-Intro-miniMoth.jpg', 'height': 70, 'width': 151, 'legacy': {}, 'subType': 'miniMoth', 'crop_name': 'miniMoth'}, {'rank': 0, 'subtype': 'windowsTile336H', 'caption': None, 'credit': None, 'type': 'image', 'url': 'images/2023/01/10/well/02Well-Challenge-Intro/02Well-Challenge-Intro-windowsTile336H.jpg', 'height': 336, 'width': 694, 'legacy': {}, 'subType': 'windowsTile336H', 'crop_name': 'windowsTile336H'}, {'rank': 0, 'subtype': 'videoFifteenBySeven1305', 'caption': None, 'credit': None, 'type': 'image', 'url': 'images/2023/01/10/well/02Well-Challenge-Intro/02Well-Challenge-Intro-videoFifteenBySeven1305.jpg', 'height': 609, 'width': 1305, 'legacy': {}, 'subType': 'videoFifteenBySeven1305', 'crop_name': 'videoFifteenBySeven1305'}, {'rank': 0, 'subtype': 'facebookJumbo', 'caption': None, 'credit': None, 'type': 'image', 'url': 'images/2023/01/10/well/02Well-Challenge-Intro/02Well-Challenge-Intro-facebookJumbo.jpg', 'height': 549, 'width': 1050, 'legacy': {}, 'subType': 'facebookJumbo', 'crop_name': 'facebookJumbo'}, {'rank': 0, 'subtype': 'watch308', 'caption': None, 'credit': None, 'type': 'image', 'url': 'images/2023/01/10/well/02Well-Challenge-Intro/02Well-Challenge-Intro-watch308.jpg', 'height': 348, 'width': 312, 'legacy': {}, 'subType': 'watch308', 'crop_name': 'watch308'}, {'rank': 0, 'subtype': 'watch268', 'caption': None, 'credit': None, 'type': 'image', 'url': 'images/2023/01/10/well/02Well-Challenge-Intro/02Well-Challenge-Intro-watch268.jpg', 'height': 303, 'width': 272, 'legacy': {}, 'subType': 'watch268', 'crop_name': 'watch268'}, {'rank': 0, 'subtype': 'verticalTwoByThree735', 'caption': None, 'credit': None, 'type': 'image', 'url': 'images/2023/01/10/well/02Well-Challenge-Intro/02Well-Challenge-Intro-verticalTwoByThree735.jpg', 'height': 1103, 'width': 735, 'legacy': {}, 'subType': 'verticalTwoByThree735', 'crop_name': 'verticalTwoByThree735'}, {'rank': 0, 'subtype': 'mobileMasterAt3x', 'caption': None, 'credit': None, 'type': 'image', 'url': 'images/2023/01/10/well/02Well-Challenge-Intro/02Well-Challenge-Intro-mobileMasterAt3x.jpg', 'height': 1200, 'width': 1800, 'legacy': {}, 'subType': 'mobileMasterAt3x', 'crop_name': 'mobileMasterAt3x'}]\",\n",
       " 'headline': \"{'main': 'Day 1: Take Stock of Your Relationships', 'kicker': 'The 7-day Happiness Challenge', 'content_kicker': None, 'print_headline': 'Day 1 | Your Relationships Are Essential for Your Health', 'name': None, 'seo': None, 'sub': None}\",\n",
       " 'keywords': \"[{'name': 'subject', 'value': 'Content Type: Service', 'rank': 1, 'major': 'N'}, {'name': 'subject', 'value': 'Dating and Relationships', 'rank': 2, 'major': 'N'}, {'name': 'subject', 'value': 'Loneliness', 'rank': 3, 'major': 'N'}, {'name': 'creative_works', 'value': 'The Good Life (Book)', 'rank': 4, 'major': 'N'}]\",\n",
       " 'pub_date': datetime.datetime(2023, 1, 2, 4, 0, 6),\n",
       " 'document_type': 'article',\n",
       " 'news_desk': 'Well',\n",
       " 'section_name': 'Well',\n",
       " 'byline': \"{'original': 'By Jancee Dunn', 'person': [{'firstname': 'Jancee', 'middlename': None, 'lastname': 'Dunn', 'qualifier': None, 'title': None, 'role': 'reported', 'organization': '', 'rank': 1}], 'organization': None}\",\n",
       " 'type_of_material': 'News',\n",
       " '_id': 'nyt://article/3dfb3527-68cd-5db7-9504-7afc538953f2',\n",
       " 'word_count': 1172.0,\n",
       " 'uri': 'nyt://article/3dfb3527-68cd-5db7-9504-7afc538953f2',\n",
       " 'subsection_name': None,\n",
       " 'Open': None,\n",
       " 'High': None,\n",
       " 'Low': None,\n",
       " 'Close': None,\n",
       " 'Date': 1672617600000,\n",
       " 'input_ids': [101,\n",
       "  2651,\n",
       "  1010,\n",
       "  2017,\n",
       "  2097,\n",
       "  6709,\n",
       "  1996,\n",
       "  2752,\n",
       "  1997,\n",
       "  2115,\n",
       "  2166,\n",
       "  1999,\n",
       "  2029,\n",
       "  2017,\n",
       "  2052,\n",
       "  2066,\n",
       "  2000,\n",
       "  2022,\n",
       "  2062,\n",
       "  4198,\n",
       "  1012,\n",
       "  102,\n",
       "  0,\n",
       "  0,\n",
       "  0,\n",
       "  0,\n",
       "  0,\n",
       "  0,\n",
       "  0,\n",
       "  0,\n",
       "  0,\n",
       "  0,\n",
       "  0,\n",
       "  0,\n",
       "  0,\n",
       "  0,\n",
       "  0,\n",
       "  0,\n",
       "  0,\n",
       "  0,\n",
       "  0,\n",
       "  0,\n",
       "  0,\n",
       "  0,\n",
       "  0,\n",
       "  0,\n",
       "  0,\n",
       "  0,\n",
       "  0,\n",
       "  0,\n",
       "  0,\n",
       "  0,\n",
       "  0,\n",
       "  0,\n",
       "  0,\n",
       "  0,\n",
       "  0,\n",
       "  0,\n",
       "  0,\n",
       "  0,\n",
       "  0,\n",
       "  0,\n",
       "  0,\n",
       "  0,\n",
       "  0,\n",
       "  0,\n",
       "  0,\n",
       "  0,\n",
       "  0,\n",
       "  0,\n",
       "  0,\n",
       "  0,\n",
       "  0,\n",
       "  0,\n",
       "  0,\n",
       "  0,\n",
       "  0,\n",
       "  0,\n",
       "  0,\n",
       "  0,\n",
       "  0,\n",
       "  0],\n",
       " 'attention_mask': [1,\n",
       "  1,\n",
       "  1,\n",
       "  1,\n",
       "  1,\n",
       "  1,\n",
       "  1,\n",
       "  1,\n",
       "  1,\n",
       "  1,\n",
       "  1,\n",
       "  1,\n",
       "  1,\n",
       "  1,\n",
       "  1,\n",
       "  1,\n",
       "  1,\n",
       "  1,\n",
       "  1,\n",
       "  1,\n",
       "  1,\n",
       "  1,\n",
       "  0,\n",
       "  0,\n",
       "  0,\n",
       "  0,\n",
       "  0,\n",
       "  0,\n",
       "  0,\n",
       "  0,\n",
       "  0,\n",
       "  0,\n",
       "  0,\n",
       "  0,\n",
       "  0,\n",
       "  0,\n",
       "  0,\n",
       "  0,\n",
       "  0,\n",
       "  0,\n",
       "  0,\n",
       "  0,\n",
       "  0,\n",
       "  0,\n",
       "  0,\n",
       "  0,\n",
       "  0,\n",
       "  0,\n",
       "  0,\n",
       "  0,\n",
       "  0,\n",
       "  0,\n",
       "  0,\n",
       "  0,\n",
       "  0,\n",
       "  0,\n",
       "  0,\n",
       "  0,\n",
       "  0,\n",
       "  0,\n",
       "  0,\n",
       "  0,\n",
       "  0,\n",
       "  0,\n",
       "  0,\n",
       "  0,\n",
       "  0,\n",
       "  0,\n",
       "  0,\n",
       "  0,\n",
       "  0,\n",
       "  0,\n",
       "  0,\n",
       "  0,\n",
       "  0,\n",
       "  0,\n",
       "  0,\n",
       "  0,\n",
       "  0,\n",
       "  0,\n",
       "  0,\n",
       "  0]}"
      ]
     },
     "execution_count": 18,
     "metadata": {},
     "output_type": "execute_result"
    }
   ],
   "source": [
    "nspp_encoded['train'][0]"
   ]
  },
  {
   "cell_type": "code",
   "execution_count": 110,
   "metadata": {},
   "outputs": [
    {
     "data": {
      "text/plain": [
       "1672617600000"
      ]
     },
     "execution_count": 110,
     "metadata": {},
     "output_type": "execute_result"
    }
   ],
   "source": [
    "nspp_encoded['train']['Date'][0]"
   ]
  },
  {
   "cell_type": "code",
   "execution_count": 19,
   "metadata": {},
   "outputs": [],
   "source": [
    "def extract_hidden_states(batch) -> Dict:\n",
    "    # Move the model inputs to the appropriate device.\n",
    "    #print(batch.items())\n",
    "    #bra\n",
    "    inputs_dict = {k:v.to(device) for k,v in batch.items() if k in tokenizer.model_input_names}\n",
    "    # Call the model and extract the hidden states\n",
    "    with torch.no_grad():\n",
    "        last_hidden_state = model(**inputs_dict).last_hidden_state\n",
    "    # Return the vector for the [CLS] token.\n",
    "    return {'hidden_state': last_hidden_state[:,0].cpu().numpy()}"
   ]
  },
  {
   "cell_type": "markdown",
   "metadata": {},
   "source": [
    "chooses specific columns in dataset and saves in nspp_en_tiny dataset for inference. The reason is that torch does not work with Datetime"
   ]
  },
  {
   "cell_type": "code",
   "execution_count": 20,
   "metadata": {},
   "outputs": [
    {
     "data": {
      "application/vnd.jupyter.widget-view+json": {
       "model_id": "1a0cdd90dfb84eeda19f717abcac9a9d",
       "version_major": 2,
       "version_minor": 0
      },
      "text/plain": [
       "Map:   0%|          | 0/392 [00:00<?, ? examples/s]"
      ]
     },
     "metadata": {},
     "output_type": "display_data"
    },
    {
     "data": {
      "application/vnd.jupyter.widget-view+json": {
       "model_id": "c1773b0869d842128bc19248950a81cb",
       "version_major": 2,
       "version_minor": 0
      },
      "text/plain": [
       "Map:   0%|          | 0/25 [00:00<?, ? examples/s]"
      ]
     },
     "metadata": {},
     "output_type": "display_data"
    },
    {
     "data": {
      "application/vnd.jupyter.widget-view+json": {
       "model_id": "487f2d7d3bd74f94a180d2246f16170d",
       "version_major": 2,
       "version_minor": 0
      },
      "text/plain": [
       "Map:   0%|          | 0/33 [00:00<?, ? examples/s]"
      ]
     },
     "metadata": {},
     "output_type": "display_data"
    }
   ],
   "source": [
    "from datasets import  DatasetDict\n",
    "\n",
    "# Initialize the new DatasetDict to store the smaller dataset\n",
    "nspp_en_tiny = DatasetDict()\n",
    "columns_to_keep = ['input_ids', 'attention_mask']\n",
    "# Iterate over the splits in the encoded dataset\n",
    "for split in nspp_encoded:\n",
    "    # Use the map function to remove unwanted columns\n",
    "    nspp_en_tiny[split] = nspp_encoded[split].map(\n",
    "        lambda examples: {key: examples[key] for key in columns_to_keep},\n",
    "        remove_columns=[col for col in nspp_encoded[split].column_names if col not in columns_to_keep]\n",
    "    )\n"
   ]
  },
  {
   "cell_type": "code",
   "execution_count": 21,
   "metadata": {},
   "outputs": [
    {
     "data": {
      "text/plain": [
       "datasets.dataset_dict.DatasetDict"
      ]
     },
     "execution_count": 21,
     "metadata": {},
     "output_type": "execute_result"
    }
   ],
   "source": [
    "type(nspp_en_tiny)"
   ]
  },
  {
   "cell_type": "code",
   "execution_count": 22,
   "metadata": {},
   "outputs": [
    {
     "data": {
      "text/plain": [
       "['input_ids', 'attention_mask']"
      ]
     },
     "execution_count": 22,
     "metadata": {},
     "output_type": "execute_result"
    }
   ],
   "source": [
    "nspp_en_tiny['train'].column_names\n"
   ]
  },
  {
   "cell_type": "code",
   "execution_count": 23,
   "metadata": {},
   "outputs": [
    {
     "data": {
      "application/vnd.jupyter.widget-view+json": {
       "model_id": "26ec316628ca4b2b92d1a509cb8bfc01",
       "version_major": 2,
       "version_minor": 0
      },
      "text/plain": [
       "Map:   0%|          | 0/392 [00:00<?, ? examples/s]"
      ]
     },
     "metadata": {},
     "output_type": "display_data"
    },
    {
     "data": {
      "application/vnd.jupyter.widget-view+json": {
       "model_id": "675c279c3fe44d0eb2a93c9eddad8692",
       "version_major": 2,
       "version_minor": 0
      },
      "text/plain": [
       "Map:   0%|          | 0/25 [00:00<?, ? examples/s]"
      ]
     },
     "metadata": {},
     "output_type": "display_data"
    },
    {
     "data": {
      "application/vnd.jupyter.widget-view+json": {
       "model_id": "494b3725a93a4e0a950fc13d870dbdcc",
       "version_major": 2,
       "version_minor": 0
      },
      "text/plain": [
       "Map:   0%|          | 0/33 [00:00<?, ? examples/s]"
      ]
     },
     "metadata": {},
     "output_type": "display_data"
    },
    {
     "name": "stdout",
     "output_type": "stream",
     "text": [
      "Inference took 6.0063 seconds.\n"
     ]
    }
   ],
   "source": [
    "start = time.perf_counter()\n",
    "nspp_en_tiny.set_format('torch', columns=['input_ids', 'attention_mask'])\n",
    "nspp_tiny_hidden = nspp_en_tiny.map(extract_hidden_states, batched=True)\n",
    "end = time.perf_counter()\n",
    "print(f'Inference took {end - start:0.4f} seconds.')"
   ]
  },
  {
   "cell_type": "code",
   "execution_count": 49,
   "metadata": {},
   "outputs": [
    {
     "name": "stdout",
     "output_type": "stream",
     "text": [
      "<class 'datasets.dataset_dict.DatasetDict'>\n"
     ]
    },
    {
     "data": {
      "text/plain": [
       "['input_ids', 'attention_mask', 'hidden_state']"
      ]
     },
     "execution_count": 49,
     "metadata": {},
     "output_type": "execute_result"
    }
   ],
   "source": [
    "print(type(nspp_tiny_hidden))                   \n",
    "nspp_tiny_hidden['train'].column_names"
   ]
  },
  {
   "cell_type": "code",
   "execution_count": 105,
   "metadata": {
    "vscode": {
     "languageId": "ruby"
    }
   },
   "outputs": [
    {
     "name": "stdout",
     "output_type": "stream",
     "text": [
      "DatasetDict({\n",
      "    train: Dataset({\n",
      "        features: ['Date', 'Close', 'hidden_state'],\n",
      "        num_rows: 392\n",
      "    })\n",
      "    validation: Dataset({\n",
      "        features: ['Date', 'Close', 'hidden_state'],\n",
      "        num_rows: 25\n",
      "    })\n",
      "    test: Dataset({\n",
      "        features: ['Date', 'Close', 'hidden_state'],\n",
      "        num_rows: 33\n",
      "    })\n",
      "})\n"
     ]
    }
   ],
   "source": [
    "from datasets import DatasetDict, Dataset\n",
    "\n",
    "\n",
    "# Merging columns from the two DatasetDict objects\n",
    "merged_dict = {}\n",
    "\n",
    "# Assuming both DatasetDict objects have the same keys and same number of rows in corresponding datasets\n",
    "for key in nspp_encoded.keys():\n",
    "    # Extract datasets\n",
    "    ds1 = nspp_encoded[key]\n",
    "    ds2 = nspp_tiny_hidden[key]\n",
    "    \n",
    "    # Convert to pandas DataFrames\n",
    "    df1 = ds1.to_pandas()\n",
    "    df2 = ds2.to_pandas()\n",
    "    \n",
    "    # Concatenate DataFrames horizontally (axis=1)\n",
    "    merged_df = pd.concat([df1[:][['Date','Close']], df2[:]['hidden_state']], axis=1)\n",
    "    \n",
    "    # Convert back to Dataset\n",
    "    merged_dict[key] = Dataset.from_pandas(merged_df)\n",
    "\n",
    "# Create a new DatasetDict with the merged datasets\n",
    "merged_dataset_dict = DatasetDict(merged_dict)\n",
    "\n",
    "# Print the merged DatasetDict to see the result\n",
    "print(merged_dataset_dict)\n"
   ]
  },
  {
   "cell_type": "code",
   "execution_count": 111,
   "metadata": {},
   "outputs": [
    {
     "data": {
      "text/plain": [
       "{'train': ['Date', 'Close', 'hidden_state'],\n",
       " 'validation': ['Date', 'Close', 'hidden_state'],\n",
       " 'test': ['Date', 'Close', 'hidden_state']}"
      ]
     },
     "execution_count": 111,
     "metadata": {},
     "output_type": "execute_result"
    }
   ],
   "source": [
    "(merged_dataset_dict.column_names)"
   ]
  },
  {
   "cell_type": "code",
   "execution_count": 107,
   "metadata": {},
   "outputs": [
    {
     "name": "stdout",
     "output_type": "stream",
     "text": [
      "Dataset({\n",
      "    features: ['Date', 'Close', 'hidden_state'],\n",
      "    num_rows: 392\n",
      "})\n",
      "train\n",
      "Dataset({\n",
      "    features: ['Date', 'Close', 'hidden_state'],\n",
      "    num_rows: 25\n",
      "})\n",
      "validation\n",
      "Dataset({\n",
      "    features: ['Date', 'Close', 'hidden_state'],\n",
      "    num_rows: 33\n",
      "})\n",
      "test\n"
     ]
    }
   ],
   "source": [
    "\n",
    "for split,data in merged_dataset_dict.items():\n",
    "    #nspp_tiny_hidden[split] = data.remove_columns('hidden_state')\n",
    "    print(data)\n",
    "    print(split)\n",
    "    "
   ]
  },
  {
   "cell_type": "code",
   "execution_count": 109,
   "metadata": {},
   "outputs": [
    {
     "data": {
      "application/vnd.jupyter.widget-view+json": {
       "model_id": "609c89c3718447bd90658493f28e1a0a",
       "version_major": 2,
       "version_minor": 0
      },
      "text/plain": [
       "Saving the dataset (0/1 shards):   0%|          | 0/392 [00:00<?, ? examples/s]"
      ]
     },
     "metadata": {},
     "output_type": "display_data"
    },
    {
     "data": {
      "application/vnd.jupyter.widget-view+json": {
       "model_id": "a2cf7080957b42c0acf0b04036e0bb91",
       "version_major": 2,
       "version_minor": 0
      },
      "text/plain": [
       "Saving the dataset (0/1 shards):   0%|          | 0/25 [00:00<?, ? examples/s]"
      ]
     },
     "metadata": {},
     "output_type": "display_data"
    },
    {
     "data": {
      "application/vnd.jupyter.widget-view+json": {
       "model_id": "e27ccce174164d92a4b3e468e2498bbd",
       "version_major": 2,
       "version_minor": 0
      },
      "text/plain": [
       "Saving the dataset (0/1 shards):   0%|          | 0/33 [00:00<?, ? examples/s]"
      ]
     },
     "metadata": {},
     "output_type": "display_data"
    }
   ],
   "source": [
    "merged_dataset_dict.save_to_disk('Meged_Close_feature_date')\n"
   ]
  },
  {
   "cell_type": "markdown",
   "metadata": {},
   "source": [
    "%%%%%%%%%%%%%%%%%%%%%%%%%%%%%%%%%%%%%%%%%%%%%%%%%%%%%%%%%%%\n",
    "END OF PROCESSING DATA. NEXT WE NEED TO FIT THE MODEL.\n",
    "%%%%%%%%%%%%%%%%%%%%%%%%%%%%%%%%%%%%%%%%%%%%%%%%%%%%%%%%%%%"
   ]
  },
  {
   "cell_type": "code",
   "execution_count": 19,
   "metadata": {},
   "outputs": [
    {
     "data": {
      "text/plain": [
       "tensor([[-0.1168,  0.0986, -0.1296,  ...,  0.0587,  0.3543,  0.4042],\n",
       "        [-0.0324, -0.0323, -0.1957,  ..., -0.1747,  0.3546,  0.3028],\n",
       "        [ 0.0397,  0.2022,  0.1423,  ..., -0.1141,  0.3394,  0.3958],\n",
       "        ...,\n",
       "        [-0.0034, -0.0959,  0.0584,  ..., -0.0427,  0.2496,  0.3076],\n",
       "        [ 0.0666,  0.1733,  0.1290,  ...,  0.0612,  0.2904,  0.4684],\n",
       "        [ 0.0167,  0.1013, -0.0073,  ..., -0.0649,  0.3454,  0.2199]])"
      ]
     },
     "execution_count": 19,
     "metadata": {},
     "output_type": "execute_result"
    }
   ],
   "source": [
    "emotions_hidden['train']['hidden_state']"
   ]
  },
  {
   "cell_type": "code",
   "execution_count": 20,
   "metadata": {},
   "outputs": [
    {
     "name": "stdout",
     "output_type": "stream",
     "text": [
      "(16000, 768) (2000, 768) (16000,) (2000,)\n"
     ]
    }
   ],
   "source": [
    "X_train = np.array(emotions_hidden['train']['hidden_state'])\n",
    "X_valid = np.array(emotions_hidden['validation']['hidden_state'])\n",
    "y_train = np.array(emotions_hidden['train']['label'])\n",
    "y_valid = np.array(emotions_hidden['validation']['label'])\n",
    "print(X_train.shape, X_valid.shape, y_train.shape, y_valid.shape)"
   ]
  },
  {
   "cell_type": "code",
   "execution_count": null,
   "metadata": {},
   "outputs": [],
   "source": []
  },
  {
   "cell_type": "code",
   "execution_count": 21,
   "metadata": {},
   "outputs": [
    {
     "data": {
      "text/plain": [
       "0.6335"
      ]
     },
     "execution_count": 21,
     "metadata": {},
     "output_type": "execute_result"
    }
   ],
   "source": [
    "logistic_regression = LogisticRegression(max_iter=3000)\n",
    "logistic_regression.fit(X_train, y_train)\n",
    "logistic_regression.score(X_valid, y_valid)"
   ]
  }
 ],
 "metadata": {
  "kernelspec": {
   "display_name": "erdos_may_2024",
   "language": "python",
   "name": "python3"
  },
  "language_info": {
   "codemirror_mode": {
    "name": "ipython",
    "version": 3
   },
   "file_extension": ".py",
   "mimetype": "text/x-python",
   "name": "python",
   "nbconvert_exporter": "python",
   "pygments_lexer": "ipython3",
   "version": "3.12.3"
  }
 },
 "nbformat": 4,
 "nbformat_minor": 2
}
